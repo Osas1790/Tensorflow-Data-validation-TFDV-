{
  "nbformat": 4,
  "nbformat_minor": 0,
  "metadata": {
    "colab": {
      "name": "TFDV.ipynb",
      "provenance": [],
      "collapsed_sections": []
    },
    "kernelspec": {
      "name": "python3",
      "display_name": "Python 3"
    },
    "language_info": {
      "name": "python"
    }
  },
  "cells": [
    {
      "cell_type": "markdown",
      "source": [
        "**Ungraded Lab: TFDV Exercise**\n",
        "\n",
        "\n",
        " you will get to practice using TensorFlow Data Validation (TFDV), an open-source Python package from the TensorFlow Extended (TFX) ecosystem.\n",
        "\n",
        "TFDV helps to understand, validate, and monitor production machine learning data at scale. It provides insight into some key questions in the data analysis process such as:\n",
        "\n",
        "- What are the underlying statistics of my data?\n",
        "\n",
        "- What does my training dataset look like?\n",
        "\n",
        "- How does my evaluation and serving datasets compare to the training dataset?\n",
        "\n",
        "- How can I find and fix data anomalies?\n",
        "\n",
        "you can use TFDV to compute descriptive statistics of the training data and generate a schema. You can then validate new datasets (e.g. the serving dataset from your customers) against this schema to detect and fix anomalies. This helps prevent the different types of skew. That way, you can be confident that your model is training on or predicting data that is consistent with the expected feature types and distribution.\n",
        "\n",
        "This ungraded exercise demonstrates useful functions of TFDV at an introductory level as preparation for this week's graded programming exercise. Specifically, you will:\n",
        "\n",
        "- Generate and visualize statistics from a dataset\n",
        "- Detect and fix anomalies in an evaluation dataset"
      ],
      "metadata": {
        "id": "GDKumCxIXEwU"
      }
    },
    {
      "cell_type": "markdown",
      "source": [
        ""
      ],
      "metadata": {
        "id": "3qeK-P6QW_58"
      }
    },
    {
      "cell_type": "code",
      "execution_count": 9,
      "metadata": {
        "colab": {
          "base_uri": "https://localhost:8080/"
        },
        "id": "TMuwK1yGPH-8",
        "outputId": "d0fab1ab-20e3-4688-b4a4-891086c54eec"
      },
      "outputs": [
        {
          "output_type": "stream",
          "name": "stdout",
          "text": [
            "TFDV Version: 1.8.0\n",
            "Tensorflow Version: 2.8.0\n"
          ]
        }
      ],
      "source": [
        "import tensorflow as tf\n",
        "import tensorflow_data_validation as tfdv\n",
        "import pandas as pd\n",
        "\n",
        "from sklearn.model_selection import train_test_split\n",
        "#from util import add_extra_rows\n",
        "\n",
        "from tensorflow_metadata.proto.v0 import schema_pb2\n",
        "\n",
        "print('TFDV Version: {}'.format(tfdv.__version__))\n",
        "print('Tensorflow Version: {}'.format(tf.__version__))"
      ]
    },
    {
      "cell_type": "markdown",
      "source": [
        ""
      ],
      "metadata": {
        "id": "tMW2DsW-WbSo"
      }
    },
    {
      "cell_type": "markdown",
      "source": [
        "Download the dataset\n",
        "\n",
        "\n",
        "You will be working with the Census Income Dataset, a dataset that can be used to predict if an individual earns more than or less than 50k US Dollars annually. The summary of attribute names with descriptions/expected values is shown below and you can read more about it in this data description file.\n",
        "\n",
        "age: continuous.\n",
        "workclass: Private, Self-emp-not-inc, Self-emp-inc, Federal-gov, Local-gov, State-gov, Without-pay, Never-worked.\n",
        "fnlwgt: continuous.\n",
        "education: Bachelors, Some-college, 11th, HS-grad, Prof-school, Assoc-acdm, Assoc-voc, 9th, 7th-8th, 12th, Masters, 1st-4th, 10th, Doctorate, 5th-6th, Preschool.\n",
        "education-num: continuous.\n",
        "marital-status: Married-civ-spouse, Divorced, Never-married, Separated, Widowed, Married-spouse-absent, Married-AF-spouse.\n",
        "occupation: Tech-support, Craft-repair, Other-service, Sales, Exec-managerial, Prof-specialty, Handlers-cleaners, Machine-op-inspct, Adm-clerical, Farming-fishing, Transport-moving, Priv-house-serv, Protective-serv, Armed-Forces.\n",
        "relationship: Wife, Own-child, Husband, Not-in-family, Other-relative, Unmarried.\n",
        "race: White, Asian-Pac-Islander, Amer-Indian-Eskimo, Other, Black.\n",
        "sex: Female, Male.\n",
        "capital-gain: continuous.\n",
        "capital-loss: continuous.\n",
        "hours-per-week: continuous.\n",
        "native-country: United-States, Cambodia, England, Puerto-Rico, Canada, Germany, Outlying-US(Guam-USVI-etc), India, Japan, Greece, South, China, Cuba, Iran, Honduras, Philippines, Italy, Poland, Jamaica, Vietnam, Mexico, Portugal, Ireland, France, Dominican-Republic, Laos, Ecuador, Taiwan, Haiti, Columbia, Hungary, Guatemala, Nicaragua, Scotland, Thailand, Yugoslavia, El-Salvador, Trinadad&Tobago, Peru, Hong, Holand-Netherlands.\n",
        "Let's load the dataset and split it into training and evaluation sets. We will not shuffle them for consistent results in this demo notebook but you should otherwise in real projects."
      ],
      "metadata": {
        "id": "prUyGmlMX4cy"
      }
    },
    {
      "cell_type": "code",
      "source": [
        "# Read in the training and evaluation datasets\n",
        "df = pd.read_csv(\"adult.data\", skipinitialspace=True)\n",
        "\n",
        "# Split the dataset. Do not shuffle for this demo notebook.\n",
        "train_df, eval_df = train_test_split(df, test_size=0.2, shuffle=False)"
      ],
      "metadata": {
        "id": "U051IiNOYASi"
      },
      "execution_count": 29,
      "outputs": []
    },
    {
      "cell_type": "code",
      "source": [
        "# Preview the train set\n",
        "\n",
        "train_df.head()"
      ],
      "metadata": {
        "colab": {
          "base_uri": "https://localhost:8080/",
          "height": 337
        },
        "id": "gBrCcqrxYFGb",
        "outputId": "06068f00-7819-43ad-ee51-e8a8c3b617d2"
      },
      "execution_count": 30,
      "outputs": [
        {
          "output_type": "execute_result",
          "data": {
            "text/plain": [
              "   age         workclass  fnlwgt  education  education-num  \\\n",
              "0   39         State-gov   77516  Bachelors             13   \n",
              "1   50  Self-emp-not-inc   83311  Bachelors             13   \n",
              "2   38           Private  215646    HS-grad              9   \n",
              "3   53           Private  234721       11th              7   \n",
              "4   28           Private  338409  Bachelors             13   \n",
              "\n",
              "       marital-status         occupation   relationship   race     sex  \\\n",
              "0       Never-married       Adm-clerical  Not-in-family  White    Male   \n",
              "1  Married-civ-spouse    Exec-managerial        Husband  White    Male   \n",
              "2            Divorced  Handlers-cleaners  Not-in-family  White    Male   \n",
              "3  Married-civ-spouse  Handlers-cleaners        Husband  Black    Male   \n",
              "4  Married-civ-spouse     Prof-specialty           Wife  Black  Female   \n",
              "\n",
              "   capital-gain  capital-loss  hours-per-week native-country  label  \n",
              "0          2174             0              40  United-States  <=50K  \n",
              "1             0             0              13  United-States  <=50K  \n",
              "2             0             0              40  United-States  <=50K  \n",
              "3             0             0              40  United-States  <=50K  \n",
              "4             0             0              40           Cuba  <=50K  "
            ],
            "text/html": [
              "\n",
              "  <div id=\"df-3a3842c0-bb8a-4290-90e3-29bc1ebb39a6\">\n",
              "    <div class=\"colab-df-container\">\n",
              "      <div>\n",
              "<style scoped>\n",
              "    .dataframe tbody tr th:only-of-type {\n",
              "        vertical-align: middle;\n",
              "    }\n",
              "\n",
              "    .dataframe tbody tr th {\n",
              "        vertical-align: top;\n",
              "    }\n",
              "\n",
              "    .dataframe thead th {\n",
              "        text-align: right;\n",
              "    }\n",
              "</style>\n",
              "<table border=\"1\" class=\"dataframe\">\n",
              "  <thead>\n",
              "    <tr style=\"text-align: right;\">\n",
              "      <th></th>\n",
              "      <th>age</th>\n",
              "      <th>workclass</th>\n",
              "      <th>fnlwgt</th>\n",
              "      <th>education</th>\n",
              "      <th>education-num</th>\n",
              "      <th>marital-status</th>\n",
              "      <th>occupation</th>\n",
              "      <th>relationship</th>\n",
              "      <th>race</th>\n",
              "      <th>sex</th>\n",
              "      <th>capital-gain</th>\n",
              "      <th>capital-loss</th>\n",
              "      <th>hours-per-week</th>\n",
              "      <th>native-country</th>\n",
              "      <th>label</th>\n",
              "    </tr>\n",
              "  </thead>\n",
              "  <tbody>\n",
              "    <tr>\n",
              "      <th>0</th>\n",
              "      <td>39</td>\n",
              "      <td>State-gov</td>\n",
              "      <td>77516</td>\n",
              "      <td>Bachelors</td>\n",
              "      <td>13</td>\n",
              "      <td>Never-married</td>\n",
              "      <td>Adm-clerical</td>\n",
              "      <td>Not-in-family</td>\n",
              "      <td>White</td>\n",
              "      <td>Male</td>\n",
              "      <td>2174</td>\n",
              "      <td>0</td>\n",
              "      <td>40</td>\n",
              "      <td>United-States</td>\n",
              "      <td>&lt;=50K</td>\n",
              "    </tr>\n",
              "    <tr>\n",
              "      <th>1</th>\n",
              "      <td>50</td>\n",
              "      <td>Self-emp-not-inc</td>\n",
              "      <td>83311</td>\n",
              "      <td>Bachelors</td>\n",
              "      <td>13</td>\n",
              "      <td>Married-civ-spouse</td>\n",
              "      <td>Exec-managerial</td>\n",
              "      <td>Husband</td>\n",
              "      <td>White</td>\n",
              "      <td>Male</td>\n",
              "      <td>0</td>\n",
              "      <td>0</td>\n",
              "      <td>13</td>\n",
              "      <td>United-States</td>\n",
              "      <td>&lt;=50K</td>\n",
              "    </tr>\n",
              "    <tr>\n",
              "      <th>2</th>\n",
              "      <td>38</td>\n",
              "      <td>Private</td>\n",
              "      <td>215646</td>\n",
              "      <td>HS-grad</td>\n",
              "      <td>9</td>\n",
              "      <td>Divorced</td>\n",
              "      <td>Handlers-cleaners</td>\n",
              "      <td>Not-in-family</td>\n",
              "      <td>White</td>\n",
              "      <td>Male</td>\n",
              "      <td>0</td>\n",
              "      <td>0</td>\n",
              "      <td>40</td>\n",
              "      <td>United-States</td>\n",
              "      <td>&lt;=50K</td>\n",
              "    </tr>\n",
              "    <tr>\n",
              "      <th>3</th>\n",
              "      <td>53</td>\n",
              "      <td>Private</td>\n",
              "      <td>234721</td>\n",
              "      <td>11th</td>\n",
              "      <td>7</td>\n",
              "      <td>Married-civ-spouse</td>\n",
              "      <td>Handlers-cleaners</td>\n",
              "      <td>Husband</td>\n",
              "      <td>Black</td>\n",
              "      <td>Male</td>\n",
              "      <td>0</td>\n",
              "      <td>0</td>\n",
              "      <td>40</td>\n",
              "      <td>United-States</td>\n",
              "      <td>&lt;=50K</td>\n",
              "    </tr>\n",
              "    <tr>\n",
              "      <th>4</th>\n",
              "      <td>28</td>\n",
              "      <td>Private</td>\n",
              "      <td>338409</td>\n",
              "      <td>Bachelors</td>\n",
              "      <td>13</td>\n",
              "      <td>Married-civ-spouse</td>\n",
              "      <td>Prof-specialty</td>\n",
              "      <td>Wife</td>\n",
              "      <td>Black</td>\n",
              "      <td>Female</td>\n",
              "      <td>0</td>\n",
              "      <td>0</td>\n",
              "      <td>40</td>\n",
              "      <td>Cuba</td>\n",
              "      <td>&lt;=50K</td>\n",
              "    </tr>\n",
              "  </tbody>\n",
              "</table>\n",
              "</div>\n",
              "      <button class=\"colab-df-convert\" onclick=\"convertToInteractive('df-3a3842c0-bb8a-4290-90e3-29bc1ebb39a6')\"\n",
              "              title=\"Convert this dataframe to an interactive table.\"\n",
              "              style=\"display:none;\">\n",
              "        \n",
              "  <svg xmlns=\"http://www.w3.org/2000/svg\" height=\"24px\"viewBox=\"0 0 24 24\"\n",
              "       width=\"24px\">\n",
              "    <path d=\"M0 0h24v24H0V0z\" fill=\"none\"/>\n",
              "    <path d=\"M18.56 5.44l.94 2.06.94-2.06 2.06-.94-2.06-.94-.94-2.06-.94 2.06-2.06.94zm-11 1L8.5 8.5l.94-2.06 2.06-.94-2.06-.94L8.5 2.5l-.94 2.06-2.06.94zm10 10l.94 2.06.94-2.06 2.06-.94-2.06-.94-.94-2.06-.94 2.06-2.06.94z\"/><path d=\"M17.41 7.96l-1.37-1.37c-.4-.4-.92-.59-1.43-.59-.52 0-1.04.2-1.43.59L10.3 9.45l-7.72 7.72c-.78.78-.78 2.05 0 2.83L4 21.41c.39.39.9.59 1.41.59.51 0 1.02-.2 1.41-.59l7.78-7.78 2.81-2.81c.8-.78.8-2.07 0-2.86zM5.41 20L4 18.59l7.72-7.72 1.47 1.35L5.41 20z\"/>\n",
              "  </svg>\n",
              "      </button>\n",
              "      \n",
              "  <style>\n",
              "    .colab-df-container {\n",
              "      display:flex;\n",
              "      flex-wrap:wrap;\n",
              "      gap: 12px;\n",
              "    }\n",
              "\n",
              "    .colab-df-convert {\n",
              "      background-color: #E8F0FE;\n",
              "      border: none;\n",
              "      border-radius: 50%;\n",
              "      cursor: pointer;\n",
              "      display: none;\n",
              "      fill: #1967D2;\n",
              "      height: 32px;\n",
              "      padding: 0 0 0 0;\n",
              "      width: 32px;\n",
              "    }\n",
              "\n",
              "    .colab-df-convert:hover {\n",
              "      background-color: #E2EBFA;\n",
              "      box-shadow: 0px 1px 2px rgba(60, 64, 67, 0.3), 0px 1px 3px 1px rgba(60, 64, 67, 0.15);\n",
              "      fill: #174EA6;\n",
              "    }\n",
              "\n",
              "    [theme=dark] .colab-df-convert {\n",
              "      background-color: #3B4455;\n",
              "      fill: #D2E3FC;\n",
              "    }\n",
              "\n",
              "    [theme=dark] .colab-df-convert:hover {\n",
              "      background-color: #434B5C;\n",
              "      box-shadow: 0px 1px 3px 1px rgba(0, 0, 0, 0.15);\n",
              "      filter: drop-shadow(0px 1px 2px rgba(0, 0, 0, 0.3));\n",
              "      fill: #FFFFFF;\n",
              "    }\n",
              "  </style>\n",
              "\n",
              "      <script>\n",
              "        const buttonEl =\n",
              "          document.querySelector('#df-3a3842c0-bb8a-4290-90e3-29bc1ebb39a6 button.colab-df-convert');\n",
              "        buttonEl.style.display =\n",
              "          google.colab.kernel.accessAllowed ? 'block' : 'none';\n",
              "\n",
              "        async function convertToInteractive(key) {\n",
              "          const element = document.querySelector('#df-3a3842c0-bb8a-4290-90e3-29bc1ebb39a6');\n",
              "          const dataTable =\n",
              "            await google.colab.kernel.invokeFunction('convertToInteractive',\n",
              "                                                     [key], {});\n",
              "          if (!dataTable) return;\n",
              "\n",
              "          const docLinkHtml = 'Like what you see? Visit the ' +\n",
              "            '<a target=\"_blank\" href=https://colab.research.google.com/notebooks/data_table.ipynb>data table notebook</a>'\n",
              "            + ' to learn more about interactive tables.';\n",
              "          element.innerHTML = '';\n",
              "          dataTable['output_type'] = 'display_data';\n",
              "          await google.colab.output.renderOutput(dataTable, element);\n",
              "          const docLink = document.createElement('div');\n",
              "          docLink.innerHTML = docLinkHtml;\n",
              "          element.appendChild(docLink);\n",
              "        }\n",
              "      </script>\n",
              "    </div>\n",
              "  </div>\n",
              "  "
            ]
          },
          "metadata": {},
          "execution_count": 30
        }
      ]
    },
    {
      "cell_type": "code",
      "source": [
        "# Preview the eval set\n",
        "eval_df.head()"
      ],
      "metadata": {
        "colab": {
          "base_uri": "https://localhost:8080/",
          "height": 337
        },
        "id": "zEU_tNS7YFOA",
        "outputId": "3054061c-5c84-403f-8cb8-d8be19763aa0"
      },
      "execution_count": 31,
      "outputs": [
        {
          "output_type": "execute_result",
          "data": {
            "text/plain": [
              "       age workclass  fnlwgt     education  education-num      marital-status  \\\n",
              "26048   30   Private  270886  Some-college             10       Never-married   \n",
              "26049   21   Private  216129       HS-grad              9       Never-married   \n",
              "26050   33   Private  189368  Some-college             10  Married-civ-spouse   \n",
              "26051   19         ?  141418  Some-college             10       Never-married   \n",
              "26052   19   Private  306225       HS-grad              9       Never-married   \n",
              "\n",
              "              occupation relationship   race     sex  capital-gain  \\\n",
              "26048      Other-service    Own-child  White  Female             0   \n",
              "26049      Other-service    Own-child  White    Male             0   \n",
              "26050   Transport-moving      Husband  Black    Male             0   \n",
              "26051                  ?    Own-child  White    Male             0   \n",
              "26052  Handlers-cleaners    Own-child  White    Male             0   \n",
              "\n",
              "       capital-loss  hours-per-week native-country  label  \n",
              "26048             0              40  United-States  <=50K  \n",
              "26049             0              35  United-States  <=50K  \n",
              "26050             0              40  United-States   >50K  \n",
              "26051             0              15  United-States  <=50K  \n",
              "26052             0              25  United-States  <=50K  "
            ],
            "text/html": [
              "\n",
              "  <div id=\"df-6da3f815-7687-4220-95bf-5af5ebe72d84\">\n",
              "    <div class=\"colab-df-container\">\n",
              "      <div>\n",
              "<style scoped>\n",
              "    .dataframe tbody tr th:only-of-type {\n",
              "        vertical-align: middle;\n",
              "    }\n",
              "\n",
              "    .dataframe tbody tr th {\n",
              "        vertical-align: top;\n",
              "    }\n",
              "\n",
              "    .dataframe thead th {\n",
              "        text-align: right;\n",
              "    }\n",
              "</style>\n",
              "<table border=\"1\" class=\"dataframe\">\n",
              "  <thead>\n",
              "    <tr style=\"text-align: right;\">\n",
              "      <th></th>\n",
              "      <th>age</th>\n",
              "      <th>workclass</th>\n",
              "      <th>fnlwgt</th>\n",
              "      <th>education</th>\n",
              "      <th>education-num</th>\n",
              "      <th>marital-status</th>\n",
              "      <th>occupation</th>\n",
              "      <th>relationship</th>\n",
              "      <th>race</th>\n",
              "      <th>sex</th>\n",
              "      <th>capital-gain</th>\n",
              "      <th>capital-loss</th>\n",
              "      <th>hours-per-week</th>\n",
              "      <th>native-country</th>\n",
              "      <th>label</th>\n",
              "    </tr>\n",
              "  </thead>\n",
              "  <tbody>\n",
              "    <tr>\n",
              "      <th>26048</th>\n",
              "      <td>30</td>\n",
              "      <td>Private</td>\n",
              "      <td>270886</td>\n",
              "      <td>Some-college</td>\n",
              "      <td>10</td>\n",
              "      <td>Never-married</td>\n",
              "      <td>Other-service</td>\n",
              "      <td>Own-child</td>\n",
              "      <td>White</td>\n",
              "      <td>Female</td>\n",
              "      <td>0</td>\n",
              "      <td>0</td>\n",
              "      <td>40</td>\n",
              "      <td>United-States</td>\n",
              "      <td>&lt;=50K</td>\n",
              "    </tr>\n",
              "    <tr>\n",
              "      <th>26049</th>\n",
              "      <td>21</td>\n",
              "      <td>Private</td>\n",
              "      <td>216129</td>\n",
              "      <td>HS-grad</td>\n",
              "      <td>9</td>\n",
              "      <td>Never-married</td>\n",
              "      <td>Other-service</td>\n",
              "      <td>Own-child</td>\n",
              "      <td>White</td>\n",
              "      <td>Male</td>\n",
              "      <td>0</td>\n",
              "      <td>0</td>\n",
              "      <td>35</td>\n",
              "      <td>United-States</td>\n",
              "      <td>&lt;=50K</td>\n",
              "    </tr>\n",
              "    <tr>\n",
              "      <th>26050</th>\n",
              "      <td>33</td>\n",
              "      <td>Private</td>\n",
              "      <td>189368</td>\n",
              "      <td>Some-college</td>\n",
              "      <td>10</td>\n",
              "      <td>Married-civ-spouse</td>\n",
              "      <td>Transport-moving</td>\n",
              "      <td>Husband</td>\n",
              "      <td>Black</td>\n",
              "      <td>Male</td>\n",
              "      <td>0</td>\n",
              "      <td>0</td>\n",
              "      <td>40</td>\n",
              "      <td>United-States</td>\n",
              "      <td>&gt;50K</td>\n",
              "    </tr>\n",
              "    <tr>\n",
              "      <th>26051</th>\n",
              "      <td>19</td>\n",
              "      <td>?</td>\n",
              "      <td>141418</td>\n",
              "      <td>Some-college</td>\n",
              "      <td>10</td>\n",
              "      <td>Never-married</td>\n",
              "      <td>?</td>\n",
              "      <td>Own-child</td>\n",
              "      <td>White</td>\n",
              "      <td>Male</td>\n",
              "      <td>0</td>\n",
              "      <td>0</td>\n",
              "      <td>15</td>\n",
              "      <td>United-States</td>\n",
              "      <td>&lt;=50K</td>\n",
              "    </tr>\n",
              "    <tr>\n",
              "      <th>26052</th>\n",
              "      <td>19</td>\n",
              "      <td>Private</td>\n",
              "      <td>306225</td>\n",
              "      <td>HS-grad</td>\n",
              "      <td>9</td>\n",
              "      <td>Never-married</td>\n",
              "      <td>Handlers-cleaners</td>\n",
              "      <td>Own-child</td>\n",
              "      <td>White</td>\n",
              "      <td>Male</td>\n",
              "      <td>0</td>\n",
              "      <td>0</td>\n",
              "      <td>25</td>\n",
              "      <td>United-States</td>\n",
              "      <td>&lt;=50K</td>\n",
              "    </tr>\n",
              "  </tbody>\n",
              "</table>\n",
              "</div>\n",
              "      <button class=\"colab-df-convert\" onclick=\"convertToInteractive('df-6da3f815-7687-4220-95bf-5af5ebe72d84')\"\n",
              "              title=\"Convert this dataframe to an interactive table.\"\n",
              "              style=\"display:none;\">\n",
              "        \n",
              "  <svg xmlns=\"http://www.w3.org/2000/svg\" height=\"24px\"viewBox=\"0 0 24 24\"\n",
              "       width=\"24px\">\n",
              "    <path d=\"M0 0h24v24H0V0z\" fill=\"none\"/>\n",
              "    <path d=\"M18.56 5.44l.94 2.06.94-2.06 2.06-.94-2.06-.94-.94-2.06-.94 2.06-2.06.94zm-11 1L8.5 8.5l.94-2.06 2.06-.94-2.06-.94L8.5 2.5l-.94 2.06-2.06.94zm10 10l.94 2.06.94-2.06 2.06-.94-2.06-.94-.94-2.06-.94 2.06-2.06.94z\"/><path d=\"M17.41 7.96l-1.37-1.37c-.4-.4-.92-.59-1.43-.59-.52 0-1.04.2-1.43.59L10.3 9.45l-7.72 7.72c-.78.78-.78 2.05 0 2.83L4 21.41c.39.39.9.59 1.41.59.51 0 1.02-.2 1.41-.59l7.78-7.78 2.81-2.81c.8-.78.8-2.07 0-2.86zM5.41 20L4 18.59l7.72-7.72 1.47 1.35L5.41 20z\"/>\n",
              "  </svg>\n",
              "      </button>\n",
              "      \n",
              "  <style>\n",
              "    .colab-df-container {\n",
              "      display:flex;\n",
              "      flex-wrap:wrap;\n",
              "      gap: 12px;\n",
              "    }\n",
              "\n",
              "    .colab-df-convert {\n",
              "      background-color: #E8F0FE;\n",
              "      border: none;\n",
              "      border-radius: 50%;\n",
              "      cursor: pointer;\n",
              "      display: none;\n",
              "      fill: #1967D2;\n",
              "      height: 32px;\n",
              "      padding: 0 0 0 0;\n",
              "      width: 32px;\n",
              "    }\n",
              "\n",
              "    .colab-df-convert:hover {\n",
              "      background-color: #E2EBFA;\n",
              "      box-shadow: 0px 1px 2px rgba(60, 64, 67, 0.3), 0px 1px 3px 1px rgba(60, 64, 67, 0.15);\n",
              "      fill: #174EA6;\n",
              "    }\n",
              "\n",
              "    [theme=dark] .colab-df-convert {\n",
              "      background-color: #3B4455;\n",
              "      fill: #D2E3FC;\n",
              "    }\n",
              "\n",
              "    [theme=dark] .colab-df-convert:hover {\n",
              "      background-color: #434B5C;\n",
              "      box-shadow: 0px 1px 3px 1px rgba(0, 0, 0, 0.15);\n",
              "      filter: drop-shadow(0px 1px 2px rgba(0, 0, 0, 0.3));\n",
              "      fill: #FFFFFF;\n",
              "    }\n",
              "  </style>\n",
              "\n",
              "      <script>\n",
              "        const buttonEl =\n",
              "          document.querySelector('#df-6da3f815-7687-4220-95bf-5af5ebe72d84 button.colab-df-convert');\n",
              "        buttonEl.style.display =\n",
              "          google.colab.kernel.accessAllowed ? 'block' : 'none';\n",
              "\n",
              "        async function convertToInteractive(key) {\n",
              "          const element = document.querySelector('#df-6da3f815-7687-4220-95bf-5af5ebe72d84');\n",
              "          const dataTable =\n",
              "            await google.colab.kernel.invokeFunction('convertToInteractive',\n",
              "                                                     [key], {});\n",
              "          if (!dataTable) return;\n",
              "\n",
              "          const docLinkHtml = 'Like what you see? Visit the ' +\n",
              "            '<a target=\"_blank\" href=https://colab.research.google.com/notebooks/data_table.ipynb>data table notebook</a>'\n",
              "            + ' to learn more about interactive tables.';\n",
              "          element.innerHTML = '';\n",
              "          dataTable['output_type'] = 'display_data';\n",
              "          await google.colab.output.renderOutput(dataTable, element);\n",
              "          const docLink = document.createElement('div');\n",
              "          docLink.innerHTML = docLinkHtml;\n",
              "          element.appendChild(docLink);\n",
              "        }\n",
              "      </script>\n",
              "    </div>\n",
              "  </div>\n",
              "  "
            ]
          },
          "metadata": {},
          "execution_count": 31
        }
      ]
    },
    {
      "cell_type": "markdown",
      "source": [
        "From these few columns, you can get a first impression of the data. You will notice that most are strings and integers. There are also columns that are mostly zeroes. In the next sections, you will see how to use TFDV to aggregate and process this information so you can inspect it more easily."
      ],
      "metadata": {
        "id": "kVQ1geqtZzTE"
      }
    },
    {
      "cell_type": "code",
      "source": [
        ""
      ],
      "metadata": {
        "id": "cEjJHGpBZuor"
      },
      "execution_count": null,
      "outputs": []
    },
    {
      "cell_type": "markdown",
      "source": [
        ""
      ],
      "metadata": {
        "id": "6brZq3XgeJKG"
      }
    },
    {
      "cell_type": "markdown",
      "source": [
        "**Generate and visualize training dataset statistics**\n",
        "\n",
        "\n",
        "You can now compute and visualize the statistics of your training dataset. TFDV accepts three input formats: TensorFlow’s TFRecord, Pandas Dataframe, and CSV file. In this exercise, you will feed in the Pandas Dataframes you generated from the train-test split.\n",
        "\n",
        "You can compute your dataset statistics by using the generate_statistics_from_dataframe() method. Under the hood, it distributes the analysis via Apache Beam which allows it to scale over large datasets.\n",
        "\n",
        "The results returned by this step for numerical and categorical data are summarized in table:\n"
      ],
      "metadata": {
        "id": "M-PsMM0ecLhW"
      }
    },
    {
      "cell_type": "code",
      "source": [
        "# Generate training dataset statistics\n",
        "train_stats = tfdv.generate_statistics_from_dataframe(train_df)"
      ],
      "metadata": {
        "id": "bmc55tQWZutC"
      },
      "execution_count": 32,
      "outputs": []
    },
    {
      "cell_type": "code",
      "source": [
        ""
      ],
      "metadata": {
        "id": "oS0HspyNZuzi"
      },
      "execution_count": null,
      "outputs": []
    },
    {
      "cell_type": "markdown",
      "source": [
        "Once you've generated the statistics, you can easily visualize your results with the visualize_statistics() method. This shows a Facets interface and is very useful to spot if you have a high amount of missing data or high standard deviation. Run the cell below and explore the different settings in the output interface (e.g. Sort by, Reverse order, Feature search)."
      ],
      "metadata": {
        "id": "nggkIyj-cqLe"
      }
    },
    {
      "cell_type": "code",
      "source": [
        "# Visualize training dataset statistics\n",
        "tfdv.visualize_statistics(train_stats)"
      ],
      "metadata": {
        "colab": {
          "base_uri": "https://localhost:8080/",
          "height": 1000
        },
        "id": "3ehXuLZ6Zu27",
        "outputId": "64c0fc8f-4bec-487b-bda1-ab08b9aa04e8"
      },
      "execution_count": 33,
      "outputs": [
        {
          "output_type": "display_data",
          "data": {
            "text/plain": [
              "<IPython.core.display.HTML object>"
            ],
            "text/html": [
              "<iframe id='facets-iframe' width=\"100%\" height=\"500px\"></iframe>\n",
              "        <script>\n",
              "        facets_iframe = document.getElementById('facets-iframe');\n",
              "        facets_html = '<script src=\"https://cdnjs.cloudflare.com/ajax/libs/webcomponentsjs/1.3.3/webcomponents-lite.js\"><\\/script><link rel=\"import\" href=\"https://raw.githubusercontent.com/PAIR-code/facets/master/facets-dist/facets-jupyter.html\"><facets-overview proto-input=\"ColmCg5saHNfc3RhdGlzdGljcxDAywEavgcatAcKuAIIwMsBGAEgAS0AAIA/MqQCGhsJAAAAAAAA8D8RAAAAAAAA8D8hmpmZmZlZpEAaGwkAAAAAAADwPxEAAAAAAADwPyGamZmZmVmkQBobCQAAAAAAAPA/EQAAAAAAAPA/IZqZmZmZWaRAGhsJAAAAAAAA8D8RAAAAAAAA8D8hmpmZmZlZpEAaGwkAAAAAAADwPxEAAAAAAADwPyGamZmZmVmkQBobCQAAAAAAAPA/EQAAAAAAAPA/IZqZmZmZWaRAGhsJAAAAAAAA8D8RAAAAAAAA8D8hmpmZmZlZpEAaGwkAAAAAAADwPxEAAAAAAADwPyGamZmZmVmkQBobCQAAAAAAAPA/EQAAAAAAAPA/IZqZmZmZWaRAGhsJAAAAAAAA8D8RAAAAAAAA8D8hmpmZmZlZpEAgAUDAywERPhKV5WVQQ0AZZ9qfGCVeK0ApAAAAAAAAMUAxAAAAAACAQkA5AAAAAACAVkBCogIaGwkAAAAAAAAxQBHNzMzMzEw4QCE5RUdy+VOxQBobCc3MzMzMTDhAEZqZmZmZmT9AIYNRSZ2AcrJAGhsJmpmZmZmZP0ARMzMzMzNzQ0AhImx4eqXAskAaGwkzMzMzM3NDQBGamZmZmRlHQCFiodY071yzQBobCZqZmZmZGUdAEQAAAAAAwEpAIXo2qz5X46hAGhsJAAAAAADASkARZmZmZmZmTkAhAU2EDU9XoEAaGwlmZmZmZmZOQBFmZmZmZgZRQCGNBvAWSECTQBobCWZmZmZmBlFAEZqZmZmZ2VJAIb2vA+eM6HhAGhsJmpmZmZnZUkARzczMzMysVEAhUMGopE4AZUAaGwnNzMzMzKxUQBEAAAAAAIBWQCFqrIvbaABMQEKkAhobCQAAAAAAADFAEQAAAAAAADZAIZmZmZmZWaRAGhsJAAAAAAAANkARAAAAAAAAOkAhmZmZmZlZpEAaGwkAAAAAAAA6QBEAAAAAAAA+QCGZmZmZmVmkQBobCQAAAAAAAD5AEQAAAAAAgEBAIZmZmZmZWaRAGhsJAAAAAACAQEARAAAAAACAQkAhmZmZmZlZpEAaGwkAAAAAAIBCQBEAAAAAAIBEQCGZmZmZmVmkQBobCQAAAAAAgERAEQAAAAAAgEZAIZmZmZmZWaRAGhsJAAAAAACARkARAAAAAAAASUAhmZmZmZlZpEAaGwkAAAAAAABJQBEAAAAAAABNQCGZmZmZmVmkQBobCQAAAAAAAE1AEQAAAAAAgFZAIZmZmZmZWaRAIAFCBQoDYWdlGpEGEAIi/wUKuAIIwMsBGAEgAS0AAIA/MqQCGhsJAAAAAAAA8D8RAAAAAAAA8D8hmpmZmZlZpEAaGwkAAAAAAADwPxEAAAAAAADwPyGamZmZmVmkQBobCQAAAAAAAPA/EQAAAAAAAPA/IZqZmZmZWaRAGhsJAAAAAAAA8D8RAAAAAAAA8D8hmpmZmZlZpEAaGwkAAAAAAADwPxEAAAAAAADwPyGamZmZmVmkQBobCQAAAAAAAPA/EQAAAAAAAPA/IZqZmZmZWaRAGhsJAAAAAAAA8D8RAAAAAAAA8D8hmpmZmZlZpEAaGwkAAAAAAADwPxEAAAAAAADwPyGamZmZmVmkQBobCQAAAAAAAPA/EQAAAAAAAPA/IZqZmZmZWaRAGhsJAAAAAAAA8D8RAAAAAAAA8D8hmpmZmZlZpEAgAUDAywEQCRoSEgdQcml2YXRlGQAAAABAsdFAGhsSEFNlbGYtZW1wLW5vdC1pbmMZAAAAAAAMoEAaFBIJTG9jYWwtZ292GQAAAAAAlJpAGgwSAT8ZAAAAAADQlkAaFBIJU3RhdGUtZ292GQAAAAAALJBAGhcSDFNlbGYtZW1wLWluYxkAAAAAAAiMQBoWEgtGZWRlcmFsLWdvdhkAAAAAAAiIQBoWEgtXaXRob3V0LXBheRkAAAAAAAAkQBoXEgxOZXZlci13b3JrZWQZAAAAAAAAFEAlEAr8QCrtAQoSIgdQcml2YXRlKQAAAABAsdFACh8IARABIhBTZWxmLWVtcC1ub3QtaW5jKQAAAAAADKBAChgIAhACIglMb2NhbC1nb3YpAAAAAACUmkAKEAgDEAMiAT8pAAAAAADQlkAKGAgEEAQiCVN0YXRlLWdvdikAAAAAACyQQAobCAUQBSIMU2VsZi1lbXAtaW5jKQAAAAAACIxAChoIBhAGIgtGZWRlcmFsLWdvdikAAAAAAAiIQAoaCAcQByILV2l0aG91dC1wYXkpAAAAAAAAJEAKGwgIEAgiDE5ldmVyLXdvcmtlZCkAAAAAAAAUQEILCgl3b3JrY2xhc3MawQcatAcKuAIIwMsBGAEgAS0AAIA/MqQCGhsJAAAAAAAA8D8RAAAAAAAA8D8hmpmZmZlZpEAaGwkAAAAAAADwPxEAAAAAAADwPyGamZmZmVmkQBobCQAAAAAAAPA/EQAAAAAAAPA/IZqZmZmZWaRAGhsJAAAAAAAA8D8RAAAAAAAA8D8hmpmZmZlZpEAaGwkAAAAAAADwPxEAAAAAAADwPyGamZmZmVmkQBobCQAAAAAAAPA/EQAAAAAAAPA/IZqZmZmZWaRAGhsJAAAAAAAA8D8RAAAAAAAA8D8hmpmZmZlZpEAaGwkAAAAAAADwPxEAAAAAAADwPyGamZmZmVmkQBobCQAAAAAAAPA/EQAAAAAAAPA/IZqZmZmZWaRAGhsJAAAAAAAA8D8RAAAAAAAA8D8hmpmZmZlZpEAgAUDAywERjAcsNk4oB0EZoyGuOEew+UApAAAAAID+x0AxAAAAAHjEBUE5AAAAAKGnNkFCogIaGwkAAAAAgP7HQBEAAAAAOHkDQSF4E1rhgHjEQBobCQAAAAA4eQNBEQAAAABEuRJBIZuSSoEFBshAGhsJAAAAAES5EkERAAAAAOy1G0Eh371jdRnNpUAaGwkAAAAA7LUbQREAAAAASlkiQSGExDwuevJ2QBobCQAAAABKWSJBEQAAAACe1yZBIXxsh/TM2lNAGhsJAAAAAJ7XJkERAAAAAPJVK0EhqxybPBdkIUAaGwkAAAAA8lUrQREAAAAARtQvQSERXZ2wnSEVQBobCQAAAABG1C9BEQAAAABNKTJBIRFdnbCdIRVAGhsJAAAAAE0pMkERAAAAAHdoNEEhEV2dsJ0hFUAaGwkAAAAAd2g0QREAAAAAoac2QSERXZ2wnSEVQEKkAhobCQAAAACA/sdAEQAAAACQOvBAIZmZmZmZWaRAGhsJAAAAAJA68EARAAAAAEAZ+kAhmZmZmZlZpEAaGwkAAAAAQBn6QBEAAAAA8AQAQSGZmZmZmVmkQBobCQAAAADwBABBEQAAAABYYwNBIZmZmZmZWaRAGhsJAAAAAFhjA0ERAAAAAHjEBUEhmZmZmZlZpEAaGwkAAAAAeMQFQREAAAAAAPYHQSGZmZmZmVmkQBobCQAAAAAA9gdBEQAAAACwxQpBIZmZmZmZWaRAGhsJAAAAALDFCkERAAAAAGCuD0EhmZmZmZlZpEAaGwkAAAAAYK4PQREAAAAAXA8UQSGZmZmZmVmkQBobCQAAAABcDxRBEQAAAAChpzZBIZmZmZmZWaRAIAFCCAoGZm5sd2d0GqEIEAIijwgKuAIIwMsBGAEgAS0AAIA/MqQCGhsJAAAAAAAA8D8RAAAAAAAA8D8hmpmZmZlZpEAaGwkAAAAAAADwPxEAAAAAAADwPyGamZmZmVmkQBobCQAAAAAAAPA/EQAAAAAAAPA/IZqZmZmZWaRAGhsJAAAAAAAA8D8RAAAAAAAA8D8hmpmZmZlZpEAaGwkAAAAAAADwPxEAAAAAAADwPyGamZmZmVmkQBobCQAAAAAAAPA/EQAAAAAAAPA/IZqZmZmZWaRAGhsJAAAAAAAA8D8RAAAAAAAA8D8hmpmZmZlZpEAaGwkAAAAAAADwPxEAAAAAAADwPyGamZmZmVmkQBobCQAAAAAAAPA/EQAAAAAAAPA/IZqZmZmZWaRAGhsJAAAAAAAA8D8RAAAAAAAA8D8hmpmZmZlZpEAgAUDAywEQEBoSEgdIUy1ncmFkGQAAAAAAesBAGhcSDFNvbWUtY29sbGVnZRkAAAAAAMO2QBoUEglCYWNoZWxvcnMZAAAAAADTsEAaEhIHTWFzdGVycxkAAAAAAECVQBoUEglBc3NvYy12b2MZAAAAAAA0kUAaDxIEMTF0aBkAAAAAAIiNQBoVEgpBc3NvYy1hY2RtGQAAAAAAaIpAGg8SBDEwdGgZAAAAAACgh0AaEhIHN3RoLTh0aBkAAAAAACiAQBoWEgtQcm9mLXNjaG9vbBkAAAAAABB8QBoOEgM5dGgZAAAAAADgeUAaDxIEMTJ0aBkAAAAAAEB1QBoUEglEb2N0b3JhdGUZAAAAAADQdEAaEhIHNXRoLTZ0aBkAAAAAAOBvQBoSEgcxc3QtNHRoGQAAAAAAgF5AGhQSCVByZXNjaG9vbBkAAAAAAIBEQCWn4QZBKoMDChIiB0hTLWdyYWQpAAAAAAB6wEAKGwgBEAEiDFNvbWUtY29sbGVnZSkAAAAAAMO2QAoYCAIQAiIJQmFjaGVsb3JzKQAAAAAA07BAChYIAxADIgdNYXN0ZXJzKQAAAAAAQJVAChgIBBAEIglBc3NvYy12b2MpAAAAAAA0kUAKEwgFEAUiBDExdGgpAAAAAACIjUAKGQgGEAYiCkFzc29jLWFjZG0pAAAAAABoikAKEwgHEAciBDEwdGgpAAAAAACgh0AKFggIEAgiBzd0aC04dGgpAAAAAAAogEAKGggJEAkiC1Byb2Ytc2Nob29sKQAAAAAAEHxAChIIChAKIgM5dGgpAAAAAADgeUAKEwgLEAsiBDEydGgpAAAAAABAdUAKGAgMEAwiCURvY3RvcmF0ZSkAAAAAANB0QAoWCA0QDSIHNXRoLTZ0aCkAAAAAAOBvQAoWCA4QDiIHMXN0LTR0aCkAAAAAAIBeQAoYCA8QDyIJUHJlc2Nob29sKQAAAAAAgERAQgsKCWVkdWNhdGlvbhrIBxq0Bwq4AgjAywEYASABLQAAgD8ypAIaGwkAAAAAAADwPxEAAAAAAADwPyGamZmZmVmkQBobCQAAAAAAAPA/EQAAAAAAAPA/IZqZmZmZWaRAGhsJAAAAAAAA8D8RAAAAAAAA8D8hmpmZmZlZpEAaGwkAAAAAAADwPxEAAAAAAADwPyGamZmZmVmkQBobCQAAAAAAAPA/EQAAAAAAAPA/IZqZmZmZWaRAGhsJAAAAAAAA8D8RAAAAAAAA8D8hmpmZmZlZpEAaGwkAAAAAAADwPxEAAAAAAADwPyGamZmZmVmkQBobCQAAAAAAAPA/EQAAAAAAAPA/IZqZmZmZWaRAGhsJAAAAAAAA8D8RAAAAAAAA8D8hmpmZmZlZpEAaGwkAAAAAAADwPxEAAAAAAADwPyGamZmZmVmkQCABQMDLAREm3K6moSkkQBnf4JkkyX8EQCkAAAAAAADwPzEAAAAAAAAkQDkAAAAAAAAwQEKiAhobCQAAAAAAAPA/EQAAAAAAAARAIUOLbOf7KWVAGhsJAAAAAAAABEARAAAAAAAAEEAh8dJNYhAYcUAaGwkAAAAAAAAQQBEAAAAAAAAWQCFoke18PxWMQBobCQAAAAAAABZAEQAAAAAAABxAIRbZzvdTA4hAGhsJAAAAAAAAHEARAAAAAAAAIUAhLt0kBoEllEAaGwkAAAAAAAAhQBEAAAAAAAAkQCE/NV66SYLAQBobCQAAAAAAACRAEQAAAAAAACdAIQRWDi2y6bpAGhsJAAAAAAAAJ0ARAAAAAAAAKkAhvp8aL91Ei0AaGwkAAAAAAAAqQBEAAAAAAAAtQCEIrBxaZAe2QBobCQAAAAAAAC1AEQAAAAAAADBAIcDKoUW204hAQqQCGhsJAAAAAAAA8D8RAAAAAAAAHEAhmZmZmZlZpEAaGwkAAAAAAAAcQBEAAAAAAAAiQCGZmZmZmVmkQBobCQAAAAAAACJAEQAAAAAAACJAIZmZmZmZWaRAGhsJAAAAAAAAIkARAAAAAAAAIkAhmZmZmZlZpEAaGwkAAAAAAAAiQBEAAAAAAAAkQCGZmZmZmVmkQBobCQAAAAAAACRAEQAAAAAAACRAIZmZmZmZWaRAGhsJAAAAAAAAJEARAAAAAAAAJkAhmZmZmZlZpEAaGwkAAAAAAAAmQBEAAAAAAAAqQCGZmZmZmVmkQBobCQAAAAAAACpAEQAAAAAAACpAIZmZmZmZWaRAGhsJAAAAAAAAKkARAAAAAAAAMEAhmZmZmZlZpEAgAUIPCg1lZHVjYXRpb24tbnVtGuQFEAIizQUKuAIIwMsBGAEgAS0AAIA/MqQCGhsJAAAAAAAA8D8RAAAAAAAA8D8hmpmZmZlZpEAaGwkAAAAAAADwPxEAAAAAAADwPyGamZmZmVmkQBobCQAAAAAAAPA/EQAAAAAAAPA/IZqZmZmZWaRAGhsJAAAAAAAA8D8RAAAAAAAA8D8hmpmZmZlZpEAaGwkAAAAAAADwPxEAAAAAAADwPyGamZmZmVmkQBobCQAAAAAAAPA/EQAAAAAAAPA/IZqZmZmZWaRAGhsJAAAAAAAA8D8RAAAAAAAA8D8hmpmZmZlZpEAaGwkAAAAAAADwPxEAAAAAAADwPyGamZmZmVmkQBobCQAAAAAAAPA/EQAAAAAAAPA/IZqZmZmZWaRAGhsJAAAAAAAA8D8RAAAAAAAA8D8hmpmZmZlZpEAgAUDAywEQBxodEhJNYXJyaWVkLWNpdi1zcG91c2UZAAAAAABNx0AaGBINTmV2ZXItbWFycmllZBkAAAAAALHAQBoTEghEaXZvcmNlZBkAAAAAAPKrQBoUEglTZXBhcmF0ZWQZAAAAAADQiUAaEhIHV2lkb3dlZBkAAAAAACiJQBogEhVNYXJyaWVkLXNwb3VzZS1hYnNlbnQZAAAAAACgdUAaHBIRTWFycmllZC1BRi1zcG91c2UZAAAAAAAAMkAl/2ZmQSrQAQodIhJNYXJyaWVkLWNpdi1zcG91c2UpAAAAAABNx0AKHAgBEAEiDU5ldmVyLW1hcnJpZWQpAAAAAACxwEAKFwgCEAIiCERpdm9yY2VkKQAAAAAA8qtAChgIAxADIglTZXBhcmF0ZWQpAAAAAADQiUAKFggEEAQiB1dpZG93ZWQpAAAAAAAoiUAKJAgFEAUiFU1hcnJpZWQtc3BvdXNlLWFic2VudCkAAAAAAKB1QAogCAYQBiIRTWFycmllZC1BRi1zcG91c2UpAAAAAAAAMkBCEAoObWFyaXRhbC1zdGF0dXMalAkQAiKBCQq4AgjAywEYASABLQAAgD8ypAIaGwkAAAAAAADwPxEAAAAAAADwPyGamZmZmVmkQBobCQAAAAAAAPA/EQAAAAAAAPA/IZqZmZmZWaRAGhsJAAAAAAAA8D8RAAAAAAAA8D8hmpmZmZlZpEAaGwkAAAAAAADwPxEAAAAAAADwPyGamZmZmVmkQBobCQAAAAAAAPA/EQAAAAAAAPA/IZqZmZmZWaRAGhsJAAAAAAAA8D8RAAAAAAAA8D8hmpmZmZlZpEAaGwkAAAAAAADwPxEAAAAAAADwPyGamZmZmVmkQBobCQAAAAAAAPA/EQAAAAAAAPA/IZqZmZmZWaRAGhsJAAAAAAAA8D8RAAAAAAAA8D8hmpmZmZlZpEAaGwkAAAAAAADwPxEAAAAAAADwPyGamZmZmVmkQCABQMDLARAPGhkSDlByb2Ytc3BlY2lhbHR5GQAAAAAA9qlAGhcSDENyYWZ0LXJlcGFpchkAAAAAAHapQBoaEg9FeGVjLW1hbmFnZXJpYWwZAAAAAAAWqUAaFxIMQWRtLWNsZXJpY2FsGQAAAAAADKhAGhASBVNhbGVzGQAAAAAA5KZAGhgSDU90aGVyLXNlcnZpY2UZAAAAAADIpEAaHBIRTWFjaGluZS1vcC1pbnNwY3QZAAAAAADwmEAaDBIBPxkAAAAAAOSWQBobEhBUcmFuc3BvcnQtbW92aW5nGQAAAAAACJRAGhwSEUhhbmRsZXJzLWNsZWFuZXJzGQAAAAAAfJBAGhoSD0Zhcm1pbmctZmlzaGluZxkAAAAAAPCIQBoXEgxUZWNoLXN1cHBvcnQZAAAAAADwhkAaGhIPUHJvdGVjdGl2ZS1zZXJ2GQAAAAAAaIBAGhoSD1ByaXYtaG91c2Utc2VydhkAAAAAAABfQBoXEgxBcm1lZC1Gb3JjZXMZAAAAAAAAIEAlNxhDQSq6AwoZIg5Qcm9mLXNwZWNpYWx0eSkAAAAAAPapQAobCAEQASIMQ3JhZnQtcmVwYWlyKQAAAAAAdqlACh4IAhACIg9FeGVjLW1hbmFnZXJpYWwpAAAAAAAWqUAKGwgDEAMiDEFkbS1jbGVyaWNhbCkAAAAAAAyoQAoUCAQQBCIFU2FsZXMpAAAAAADkpkAKHAgFEAUiDU90aGVyLXNlcnZpY2UpAAAAAADIpEAKIAgGEAYiEU1hY2hpbmUtb3AtaW5zcGN0KQAAAAAA8JhAChAIBxAHIgE/KQAAAAAA5JZACh8ICBAIIhBUcmFuc3BvcnQtbW92aW5nKQAAAAAACJRACiAICRAJIhFIYW5kbGVycy1jbGVhbmVycykAAAAAAHyQQAoeCAoQCiIPRmFybWluZy1maXNoaW5nKQAAAAAA8IhAChsICxALIgxUZWNoLXN1cHBvcnQpAAAAAADwhkAKHggMEAwiD1Byb3RlY3RpdmUtc2VydikAAAAAAGiAQAoeCA0QDSIPUHJpdi1ob3VzZS1zZXJ2KQAAAAAAAF9AChsIDhAOIgxBcm1lZC1Gb3JjZXMpAAAAAAAAIEBCDAoKb2NjdXBhdGlvbhr6BBACIuUECrgCCMDLARgBIAEtAACAPzKkAhobCQAAAAAAAPA/EQAAAAAAAPA/IZqZmZmZWaRAGhsJAAAAAAAA8D8RAAAAAAAA8D8hmpmZmZlZpEAaGwkAAAAAAADwPxEAAAAAAADwPyGamZmZmVmkQBobCQAAAAAAAPA/EQAAAAAAAPA/IZqZmZmZWaRAGhsJAAAAAAAA8D8RAAAAAAAA8D8hmpmZmZlZpEAaGwkAAAAAAADwPxEAAAAAAADwPyGamZmZmVmkQBobCQAAAAAAAPA/EQAAAAAAAPA/IZqZmZmZWaRAGhsJAAAAAAAA8D8RAAAAAAAA8D8hmpmZmZlZpEAaGwkAAAAAAADwPxEAAAAAAADwPyGamZmZmVmkQBobCQAAAAAAAPA/EQAAAAAAAPA/IZqZmZmZWaRAIAFAwMsBEAYaEhIHSHVzYmFuZBkAAAAAAIHEQBoYEg1Ob3QtaW4tZmFtaWx5GQAAAAAAPrpAGhQSCU93bi1jaGlsZBkAAAAAALCvQBoUEglVbm1hcnJpZWQZAAAAAAB+pUAaDxIEV2lmZRkAAAAAALiTQBoZEg5PdGhlci1yZWxhdGl2ZRkAAAAAANiHQCWoExJBKpoBChIiB0h1c2JhbmQpAAAAAACBxEAKHAgBEAEiDU5vdC1pbi1mYW1pbHkpAAAAAAA+ukAKGAgCEAIiCU93bi1jaGlsZCkAAAAAALCvQAoYCAMQAyIJVW5tYXJyaWVkKQAAAAAAfqVAChMIBBAEIgRXaWZlKQAAAAAAuJNACh0IBRAFIg5PdGhlci1yZWxhdGl2ZSkAAAAAANiHQEIOCgxyZWxhdGlvbnNoaXAaygQQAiK9BAq4AgjAywEYASABLQAAgD8ypAIaGwkAAAAAAADwPxEAAAAAAADwPyGamZmZmVmkQBobCQAAAAAAAPA/EQAAAAAAAPA/IZqZmZmZWaRAGhsJAAAAAAAA8D8RAAAAAAAA8D8hmpmZmZlZpEAaGwkAAAAAAADwPxEAAAAAAADwPyGamZmZmVmkQBobCQAAAAAAAPA/EQAAAAAAAPA/IZqZmZmZWaRAGhsJAAAAAAAA8D8RAAAAAAAA8D8hmpmZmZlZpEAaGwkAAAAAAADwPxEAAAAAAADwPyGamZmZmVmkQBobCQAAAAAAAPA/EQAAAAAAAPA/IZqZmZmZWaRAGhsJAAAAAAAA8D8RAAAAAAAA8D8hmpmZmZlZpEAaGwkAAAAAAADwPxEAAAAAAADwPyGamZmZmVmkQCABQMDLARAFGhASBVdoaXRlGQAAAACAwtVAGhASBUJsYWNrGQAAAAAAWqNAGh0SEkFzaWFuLVBhYy1Jc2xhbmRlchkAAAAAAIiJQBodEhJBbWVyLUluZGlhbi1Fc2tpbW8ZAAAAAACAb0AaEBIFT3RoZXIZAAAAAACAa0AljhKxQCqEAQoQIgVXaGl0ZSkAAAAAgMLVQAoUCAEQASIFQmxhY2spAAAAAABao0AKIQgCEAIiEkFzaWFuLVBhYy1Jc2xhbmRlcikAAAAAAIiJQAohCAMQAyISQW1lci1JbmRpYW4tRXNraW1vKQAAAAAAgG9AChQIBBAEIgVPdGhlcikAAAAAAIBrQEIGCgRyYWNlGpwDEAIikAMKuAIIwMsBGAEgAS0AAIA/MqQCGhsJAAAAAAAA8D8RAAAAAAAA8D8hmpmZmZlZpEAaGwkAAAAAAADwPxEAAAAAAADwPyGamZmZmVmkQBobCQAAAAAAAPA/EQAAAAAAAPA/IZqZmZmZWaRAGhsJAAAAAAAA8D8RAAAAAAAA8D8hmpmZmZlZpEAaGwkAAAAAAADwPxEAAAAAAADwPyGamZmZmVmkQBobCQAAAAAAAPA/EQAAAAAAAPA/IZqZmZmZWaRAGhsJAAAAAAAA8D8RAAAAAAAA8D8hmpmZmZlZpEAaGwkAAAAAAADwPxEAAAAAAADwPyGamZmZmVmkQBobCQAAAAAAAPA/EQAAAAAAAPA/IZqZmZmZWaRAGhsJAAAAAAAA8D8RAAAAAAAA8D8hmpmZmZlZpEAgAUDAywEQAhoPEgRNYWxlGQAAAADABdFAGhESBkZlbWFsZRkAAAAAgNTAQCUILJVAKigKDyIETWFsZSkAAAAAwAXRQAoVCAEQASIGRmVtYWxlKQAAAACA1MBAQgUKA3NleBqEBhrxBQq4AgjAywEYASABLQAAgD8ypAIaGwkAAAAAAADwPxEAAAAAAADwPyGamZmZmVmkQBobCQAAAAAAAPA/EQAAAAAAAPA/IZqZmZmZWaRAGhsJAAAAAAAA8D8RAAAAAAAA8D8hmpmZmZlZpEAaGwkAAAAAAADwPxEAAAAAAADwPyGamZmZmVmkQBobCQAAAAAAAPA/EQAAAAAAAPA/IZqZmZmZWaRAGhsJAAAAAAAA8D8RAAAAAAAA8D8hmpmZmZlZpEAaGwkAAAAAAADwPxEAAAAAAADwPyGamZmZmVmkQBobCQAAAAAAAPA/EQAAAAAAAPA/IZqZmZmZWaRAGhsJAAAAAAAA8D8RAAAAAAAA8D8hmpmZmZlZpEAaGwkAAAAAAADwPxEAAAAAAADwPyGamZmZmVmkQCABQMDLARHEeMBihRGRQBm+QhglyDq9QCC+ugE5AAAAAPBp+EBCmQIaEhEzMzMz84fDQCHXN5hJsNbYQBobCTMzMzPzh8NAETMzMzPzh9NAIVDzM+B+6XpAGhsJMzMzM/OH00ARzMzMzOxL3UAhNMxJGNklO0AaGwnMzMzM7EvdQBEzMzMz84fjQCExYm5tlN8MQBobCTMzMzPzh+NAEQAAAADwaehAITFibm2U3wxAGhsJAAAAAPBp6EARzMzMzOxL7UAhK2JubZTfDEAaGwnMzMzM7EvtQBHNzMzM9BbxQCE3Ym5tlN8MQBobCc3MzMz0FvFAETMzMzPzh/NAIStibm2U3wxAGhsJMzMzM/OH80ARmZmZmfH49UAhK2JubZTfDEAaGwmZmZmZ8fj1QBEAAAAA8Gn4QCHQmjBmLLtgQEJ5GgkhmZmZmZlZpEAaCSGZmZmZmVmkQBoJIZmZmZmZWaRAGgkhmZmZmZlZpEAaCSGZmZmZmVmkQBoJIZmZmZmZWaRAGgkhmZmZmZlZpEAaCSGZmZmZmVmkQBoJIZmZmZmZWaRAGhIRAAAAAPBp+EAhmZmZmZlZpEAgAUIOCgxjYXBpdGFsLWdhaW4ahAYa8QUKuAIIwMsBGAEgAS0AAIA/MqQCGhsJAAAAAAAA8D8RAAAAAAAA8D8hmpmZmZlZpEAaGwkAAAAAAADwPxEAAAAAAADwPyGamZmZmVmkQBobCQAAAAAAAPA/EQAAAAAAAPA/IZqZmZmZWaRAGhsJAAAAAAAA8D8RAAAAAAAA8D8hmpmZmZlZpEAaGwkAAAAAAADwPxEAAAAAAADwPyGamZmZmVmkQBobCQAAAAAAAPA/EQAAAAAAAPA/IZqZmZmZWaRAGhsJAAAAAAAA8D8RAAAAAAAA8D8hmpmZmZlZpEAaGwkAAAAAAADwPxEAAAAAAADwPyGamZmZmVmkQBobCQAAAAAAAPA/EQAAAAAAAPA/IZqZmZmZWaRAGhsJAAAAAAAA8D8RAAAAAAAA8D8hmpmZmZlZpEAgAUDAywERBqEA2XGpVUAZZlLmkuIbeUAgi8IBOQAAAAAABLFAQpkCGhIRmpmZmZk5e0AhbZC1zptE2EAaGwmamZmZmTl7QBGamZmZmTmLQCGO/gONDtwwQBobCZqZmZmZOYtAETQzMzMza5RAIdjuMUGAQDpAGhsJNDMzMzNrlEARmpmZmZk5m0AhG2MDh+i0dUAaGwmamZmZmTmbQBEAAAAAAAShQCHAT/qJ3ISDQBobCQAAAAAABKFAETQzMzMza6RAIZj409sNqWNAGhsJNDMzMzNrpEARZ2ZmZmbSp0AhYGxoza1BGUAaGwlnZmZmZtKnQBGamZmZmTmrQCFgbGjNrUEZQBobCZqZmZmZOatAEc3MzMzMoK5AIWBsaM2tQRlAGhsJzczMzMygrkARAAAAAAAEsUAhYGxoza1BGUBCeRoJIZmZmZmZWaRAGgkhmZmZmZlZpEAaCSGZmZmZmVmkQBoJIZmZmZmZWaRAGgkhmZmZmZlZpEAaCSGZmZmZmVmkQBoJIZmZmZmZWaRAGgkhmZmZmZlZpEAaCSGZmZmZmVmkQBoSEQAAAAAABLFAIZmZmZmZWaRAIAFCDgoMY2FwaXRhbC1sb3NzGskHGrQHCrgCCMDLARgBIAEtAACAPzKkAhobCQAAAAAAAPA/EQAAAAAAAPA/IZqZmZmZWaRAGhsJAAAAAAAA8D8RAAAAAAAA8D8hmpmZmZlZpEAaGwkAAAAAAADwPxEAAAAAAADwPyGamZmZmVmkQBobCQAAAAAAAPA/EQAAAAAAAPA/IZqZmZmZWaRAGhsJAAAAAAAA8D8RAAAAAAAA8D8hmpmZmZlZpEAaGwkAAAAAAADwPxEAAAAAAADwPyGamZmZmVmkQBobCQAAAAAAAPA/EQAAAAAAAPA/IZqZmZmZWaRAGhsJAAAAAAAA8D8RAAAAAAAA8D8hmpmZmZlZpEAaGwkAAAAAAADwPxEAAAAAAADwPyGamZmZmVmkQBobCQAAAAAAAPA/EQAAAAAAAPA/IZqZmZmZWaRAIAFAwMsBEaEA2XFtNERAGc0cTp5enShAKQAAAAAAAPA/MQAAAAAAAERAOQAAAAAAwFhAQqICGhsJAAAAAAAA8D8RmpmZmZmZJUAheVioNc07gkAaGwmamZmZmZklQBGamZmZmZk0QCG1hHzQs1mbQBobCZqZmZmZmTRAEWdmZmZmZj5AIfkx5q4lJJ1AGhsJZ2ZmZmZmPkARmpmZmZkZREAh46WbxCDUy0AaGwmamZmZmRlEQBEAAAAAAABJQCF0tRX7y36jQBobCQAAAAAAAElAEWdmZmZm5k1AIW6jAbwFyqdAGhsJZ2ZmZmbmTUARZ2ZmZmZmUUAh2r+y0qRklkAaGwlnZmZmZmZRQBGamZmZmdlTQCHRHcTOFLp2QBobCZqZmZmZ2VNAEc3MzMzMTFZAIWrH5ygafmNAGhsJzczMzMxMVkARAAAAAADAWEAhjL/Hc5DqWkBCpAIaGwkAAAAAAADwPxEAAAAAAAA4QCGZmZmZmVmkQBobCQAAAAAAADhAEQAAAAAAgEFAIZmZmZmZWaRAGhsJAAAAAACAQUARAAAAAAAAREAhmZmZmZlZpEAaGwkAAAAAAABEQBEAAAAAAABEQCGZmZmZmVmkQBobCQAAAAAAAERAEQAAAAAAAERAIZmZmZmZWaRAGhsJAAAAAAAAREARAAAAAAAAREAhmZmZmZlZpEAaGwkAAAAAAABEQBEAAAAAAABEQCGZmZmZmVmkQBobCQAAAAAAAERAEQAAAAAAAEhAIZmZmZmZWaRAGhsJAAAAAAAASEARAAAAAACAS0AhmZmZmZlZpEAaGwkAAAAAAIBLQBEAAAAAAMBYQCGZmZmZmVmkQCABQhAKDmhvdXJzLXBlci13ZWVrGooOEAIi8w0KuAIIwMsBGAEgAS0AAIA/MqQCGhsJAAAAAAAA8D8RAAAAAAAA8D8hmpmZmZlZpEAaGwkAAAAAAADwPxEAAAAAAADwPyGamZmZmVmkQBobCQAAAAAAAPA/EQAAAAAAAPA/IZqZmZmZWaRAGhsJAAAAAAAA8D8RAAAAAAAA8D8hmpmZmZlZpEAaGwkAAAAAAADwPxEAAAAAAADwPyGamZmZmVmkQBobCQAAAAAAAPA/EQAAAAAAAPA/IZqZmZmZWaRAGhsJAAAAAAAA8D8RAAAAAAAA8D8hmpmZmZlZpEAaGwkAAAAAAADwPxEAAAAAAADwPyGamZmZmVmkQBobCQAAAAAAAPA/EQAAAAAAAPA/IZqZmZmZWaRAGhsJAAAAAAAA8D8RAAAAAAAA8D8hmpmZmZlZpEAgAUDAywEQKhoYEg1Vbml0ZWQtU3RhdGVzGQAAAACAztZAGhESBk1leGljbxkAAAAAANB/QBoMEgE/GQAAAAAAIH1AGhYSC1BoaWxpcHBpbmVzGQAAAAAA4GNAGhISB0dlcm1hbnkZAAAAAACAWkAaERIGQ2FuYWRhGQAAAAAAwFlAGhYSC1B1ZXJ0by1SaWNvGQAAAAAAAFlAGhISB0VuZ2xhbmQZAAAAAACAU0AaFhILRWwtU2FsdmFkb3IZAAAAAAAAU0AaDxIEQ3ViYRkAAAAAAIBSQBoQEgVJbmRpYRkAAAAAAMBRQBoQEgVTb3V0aBkAAAAAAMBQQBoQEgVDaGluYRkAAAAAAIBPQBoSEgdKYW1haWNhGQAAAAAAgE5AGhASBUl0YWx5GQAAAAAAgEtAGh0SEkRvbWluaWNhbi1SZXB1YmxpYxkAAAAAAIBLQBoREgZQb2xhbmQZAAAAAACASkAaFBIJR3VhdGVtYWxhGQAAAAAAgEpAGhISB1ZpZXRuYW0ZAAAAAAAASkAaEBIFSmFwYW4ZAAAAAAAASUAlBrpEQSqVCAoYIg1Vbml0ZWQtU3RhdGVzKQAAAACAztZAChUIARABIgZNZXhpY28pAAAAAADQf0AKEAgCEAIiAT8pAAAAAAAgfUAKGggDEAMiC1BoaWxpcHBpbmVzKQAAAAAA4GNAChYIBBAEIgdHZXJtYW55KQAAAAAAgFpAChUIBRAFIgZDYW5hZGEpAAAAAADAWUAKGggGEAYiC1B1ZXJ0by1SaWNvKQAAAAAAAFlAChYIBxAHIgdFbmdsYW5kKQAAAAAAgFNAChoICBAIIgtFbC1TYWx2YWRvcikAAAAAAABTQAoTCAkQCSIEQ3ViYSkAAAAAAIBSQAoUCAoQCiIFSW5kaWEpAAAAAADAUUAKFAgLEAsiBVNvdXRoKQAAAAAAwFBAChQIDBAMIgVDaGluYSkAAAAAAIBPQAoWCA0QDSIHSmFtYWljYSkAAAAAAIBOQAoUCA4QDiIFSXRhbHkpAAAAAACAS0AKIQgPEA8iEkRvbWluaWNhbi1SZXB1YmxpYykAAAAAAIBLQAoVCBAQECIGUG9sYW5kKQAAAAAAgEpAChgIERARIglHdWF0ZW1hbGEpAAAAAACASkAKFggSEBIiB1ZpZXRuYW0pAAAAAAAASkAKFAgTEBMiBUphcGFuKQAAAAAAAElAChcIFBAUIghDb2x1bWJpYSkAAAAAAABHQAoVCBUQFSIGVGFpd2FuKQAAAAAAAEZAChMIFhAWIgRJcmFuKQAAAAAAAENAChQIFxAXIgVIYWl0aSkAAAAAAABDQAoXCBgQGCIIUG9ydHVnYWwpAAAAAAAAPEAKGAgZEBkiCU5pY2FyYWd1YSkAAAAAAAA7QAoTCBoQGiIEUGVydSkAAAAAAAA3QAoVCBsQGyIGR3JlZWNlKQAAAAAAADdAChUIHBAcIgZGcmFuY2UpAAAAAAAAN0AKFggdEB0iB0lyZWxhbmQpAAAAAAAANEAKFggeEB4iB0VjdWFkb3IpAAAAAAAAM0AKFwgfEB8iCFRoYWlsYW5kKQAAAAAAADBAChcIIBAgIghDYW1ib2RpYSkAAAAAAAAwQAoeCCEQISIPVHJpbmFkYWQmVG9iYWdvKQAAAAAAAChAChMIIhAiIgRIb25nKQAAAAAAAChAChkIIxAjIgpZdWdvc2xhdmlhKQAAAAAAACZAChMIJBAkIgRMYW9zKQAAAAAAACRAChYIJRAlIgdIdW5nYXJ5KQAAAAAAACRAChcIJhAmIghTY290bGFuZCkAAAAAAAAiQAoXCCcQJyIISG9uZHVyYXMpAAAAAAAAIkAKKQgoECgiGk91dGx5aW5nLVVTKEd1YW0tVVNWSS1ldGMpKQAAAAAAACBACiEIKRApIhJIb2xhbmQtTmV0aGVybGFuZHMpAAAAAAAA8D9CEAoObmF0aXZlLWNvdW50cnkanAMQAiKOAwq4AgjAywEYASABLQAAgD8ypAIaGwkAAAAAAADwPxEAAAAAAADwPyGamZmZmVmkQBobCQAAAAAAAPA/EQAAAAAAAPA/IZqZmZmZWaRAGhsJAAAAAAAA8D8RAAAAAAAA8D8hmpmZmZlZpEAaGwkAAAAAAADwPxEAAAAAAADwPyGamZmZmVmkQBobCQAAAAAAAPA/EQAAAAAAAPA/IZqZmZmZWaRAGhsJAAAAAAAA8D8RAAAAAAAA8D8hmpmZmZlZpEAaGwkAAAAAAADwPxEAAAAAAADwPyGamZmZmVmkQBobCQAAAAAAAPA/EQAAAAAAAPA/IZqZmZmZWaRAGhsJAAAAAAAA8D8RAAAAAAAA8D8hmpmZmZlZpEAaGwkAAAAAAADwPxEAAAAAAADwPyGamZmZmVmkQCABQMDLARACGhASBTw9NTBLGQAAAADAV9NAGg8SBD41MEsZAAAAAABhuEAlOlWYQConChAiBTw9NTBLKQAAAADAV9NAChMIARABIgQ+NTBLKQAAAAAAYbhAQgcKBWxhYmVs\"></facets-overview>';\n",
              "        facets_iframe.srcdoc = facets_html;\n",
              "         facets_iframe.id = \"\";\n",
              "         setTimeout(() => {\n",
              "           facets_iframe.setAttribute('height', facets_iframe.contentWindow.document.body.offsetHeight + 'px')\n",
              "         }, 1500)\n",
              "         </script>"
            ]
          },
          "metadata": {}
        }
      ]
    },
    {
      "cell_type": "code",
      "source": [
        ""
      ],
      "metadata": {
        "id": "XYkqudEDZu6F"
      },
      "execution_count": null,
      "outputs": []
    },
    {
      "cell_type": "markdown",
      "source": [
        "# **Infer data schema**\n",
        "Next step is to create a data schema to describe your train set. Simply put, a schema describes standard characteristics of your data such as column data types and expected data value range. The schema is created on a dataset that you consider as reference, and can be reused to validate other incoming datasets.\n",
        "\n",
        "With the computed statistics, TFDV allows you to automatically generate an initial version of the schema using the infer_schema() method. This returns a Schema protocol buffer containing the result. As mentioned in the TFX paper (Section 3.3), the results of the schema inference can be summarized as follows:\n",
        "\n",
        "- The expected type of each feature.\n",
        "- The expected presence of each feature, in terms of a minimum count and - - - fraction of examples that must contain the feature.\n",
        "- The expected valency of the feature in each example, i.e., minimum and maximum number of values.\n",
        "- The expected domain of a feature, i.e., the small universe of values for a string feature, or range for an integer feature."
      ],
      "metadata": {
        "id": "sT0jb7iLeMRo"
      }
    },
    {
      "cell_type": "code",
      "source": [
        "# Infer schema from the computed statistics.\n",
        "schema = tfdv.infer_schema(statistics=train_stats)\n",
        "\n",
        "# Display the inferred schema\n",
        "tfdv.display_schema(schema)\n"
      ],
      "metadata": {
        "colab": {
          "base_uri": "https://localhost:8080/",
          "height": 966
        },
        "id": "2KEWz157Zu_O",
        "outputId": "50e08dea-b990-4fce-e753-d77db148f3e5"
      },
      "execution_count": 34,
      "outputs": [
        {
          "output_type": "display_data",
          "data": {
            "text/plain": [
              "                    Type  Presence Valency            Domain\n",
              "Feature name                                                \n",
              "'age'                INT  required                         -\n",
              "'workclass'       STRING  required               'workclass'\n",
              "'fnlwgt'             INT  required                         -\n",
              "'education'       STRING  required               'education'\n",
              "'education-num'      INT  required                         -\n",
              "'marital-status'  STRING  required          'marital-status'\n",
              "'occupation'      STRING  required              'occupation'\n",
              "'relationship'    STRING  required            'relationship'\n",
              "'race'            STRING  required                    'race'\n",
              "'sex'             STRING  required                     'sex'\n",
              "'capital-gain'       INT  required                         -\n",
              "'capital-loss'       INT  required                         -\n",
              "'hours-per-week'     INT  required                         -\n",
              "'native-country'  STRING  required          'native-country'\n",
              "'label'           STRING  required                   'label'"
            ],
            "text/html": [
              "\n",
              "  <div id=\"df-93ba8ecd-21c7-4905-8126-60a205bbc103\">\n",
              "    <div class=\"colab-df-container\">\n",
              "      <div>\n",
              "<style scoped>\n",
              "    .dataframe tbody tr th:only-of-type {\n",
              "        vertical-align: middle;\n",
              "    }\n",
              "\n",
              "    .dataframe tbody tr th {\n",
              "        vertical-align: top;\n",
              "    }\n",
              "\n",
              "    .dataframe thead th {\n",
              "        text-align: right;\n",
              "    }\n",
              "</style>\n",
              "<table border=\"1\" class=\"dataframe\">\n",
              "  <thead>\n",
              "    <tr style=\"text-align: right;\">\n",
              "      <th></th>\n",
              "      <th>Type</th>\n",
              "      <th>Presence</th>\n",
              "      <th>Valency</th>\n",
              "      <th>Domain</th>\n",
              "    </tr>\n",
              "    <tr>\n",
              "      <th>Feature name</th>\n",
              "      <th></th>\n",
              "      <th></th>\n",
              "      <th></th>\n",
              "      <th></th>\n",
              "    </tr>\n",
              "  </thead>\n",
              "  <tbody>\n",
              "    <tr>\n",
              "      <th>'age'</th>\n",
              "      <td>INT</td>\n",
              "      <td>required</td>\n",
              "      <td></td>\n",
              "      <td>-</td>\n",
              "    </tr>\n",
              "    <tr>\n",
              "      <th>'workclass'</th>\n",
              "      <td>STRING</td>\n",
              "      <td>required</td>\n",
              "      <td></td>\n",
              "      <td>'workclass'</td>\n",
              "    </tr>\n",
              "    <tr>\n",
              "      <th>'fnlwgt'</th>\n",
              "      <td>INT</td>\n",
              "      <td>required</td>\n",
              "      <td></td>\n",
              "      <td>-</td>\n",
              "    </tr>\n",
              "    <tr>\n",
              "      <th>'education'</th>\n",
              "      <td>STRING</td>\n",
              "      <td>required</td>\n",
              "      <td></td>\n",
              "      <td>'education'</td>\n",
              "    </tr>\n",
              "    <tr>\n",
              "      <th>'education-num'</th>\n",
              "      <td>INT</td>\n",
              "      <td>required</td>\n",
              "      <td></td>\n",
              "      <td>-</td>\n",
              "    </tr>\n",
              "    <tr>\n",
              "      <th>'marital-status'</th>\n",
              "      <td>STRING</td>\n",
              "      <td>required</td>\n",
              "      <td></td>\n",
              "      <td>'marital-status'</td>\n",
              "    </tr>\n",
              "    <tr>\n",
              "      <th>'occupation'</th>\n",
              "      <td>STRING</td>\n",
              "      <td>required</td>\n",
              "      <td></td>\n",
              "      <td>'occupation'</td>\n",
              "    </tr>\n",
              "    <tr>\n",
              "      <th>'relationship'</th>\n",
              "      <td>STRING</td>\n",
              "      <td>required</td>\n",
              "      <td></td>\n",
              "      <td>'relationship'</td>\n",
              "    </tr>\n",
              "    <tr>\n",
              "      <th>'race'</th>\n",
              "      <td>STRING</td>\n",
              "      <td>required</td>\n",
              "      <td></td>\n",
              "      <td>'race'</td>\n",
              "    </tr>\n",
              "    <tr>\n",
              "      <th>'sex'</th>\n",
              "      <td>STRING</td>\n",
              "      <td>required</td>\n",
              "      <td></td>\n",
              "      <td>'sex'</td>\n",
              "    </tr>\n",
              "    <tr>\n",
              "      <th>'capital-gain'</th>\n",
              "      <td>INT</td>\n",
              "      <td>required</td>\n",
              "      <td></td>\n",
              "      <td>-</td>\n",
              "    </tr>\n",
              "    <tr>\n",
              "      <th>'capital-loss'</th>\n",
              "      <td>INT</td>\n",
              "      <td>required</td>\n",
              "      <td></td>\n",
              "      <td>-</td>\n",
              "    </tr>\n",
              "    <tr>\n",
              "      <th>'hours-per-week'</th>\n",
              "      <td>INT</td>\n",
              "      <td>required</td>\n",
              "      <td></td>\n",
              "      <td>-</td>\n",
              "    </tr>\n",
              "    <tr>\n",
              "      <th>'native-country'</th>\n",
              "      <td>STRING</td>\n",
              "      <td>required</td>\n",
              "      <td></td>\n",
              "      <td>'native-country'</td>\n",
              "    </tr>\n",
              "    <tr>\n",
              "      <th>'label'</th>\n",
              "      <td>STRING</td>\n",
              "      <td>required</td>\n",
              "      <td></td>\n",
              "      <td>'label'</td>\n",
              "    </tr>\n",
              "  </tbody>\n",
              "</table>\n",
              "</div>\n",
              "      <button class=\"colab-df-convert\" onclick=\"convertToInteractive('df-93ba8ecd-21c7-4905-8126-60a205bbc103')\"\n",
              "              title=\"Convert this dataframe to an interactive table.\"\n",
              "              style=\"display:none;\">\n",
              "        \n",
              "  <svg xmlns=\"http://www.w3.org/2000/svg\" height=\"24px\"viewBox=\"0 0 24 24\"\n",
              "       width=\"24px\">\n",
              "    <path d=\"M0 0h24v24H0V0z\" fill=\"none\"/>\n",
              "    <path d=\"M18.56 5.44l.94 2.06.94-2.06 2.06-.94-2.06-.94-.94-2.06-.94 2.06-2.06.94zm-11 1L8.5 8.5l.94-2.06 2.06-.94-2.06-.94L8.5 2.5l-.94 2.06-2.06.94zm10 10l.94 2.06.94-2.06 2.06-.94-2.06-.94-.94-2.06-.94 2.06-2.06.94z\"/><path d=\"M17.41 7.96l-1.37-1.37c-.4-.4-.92-.59-1.43-.59-.52 0-1.04.2-1.43.59L10.3 9.45l-7.72 7.72c-.78.78-.78 2.05 0 2.83L4 21.41c.39.39.9.59 1.41.59.51 0 1.02-.2 1.41-.59l7.78-7.78 2.81-2.81c.8-.78.8-2.07 0-2.86zM5.41 20L4 18.59l7.72-7.72 1.47 1.35L5.41 20z\"/>\n",
              "  </svg>\n",
              "      </button>\n",
              "      \n",
              "  <style>\n",
              "    .colab-df-container {\n",
              "      display:flex;\n",
              "      flex-wrap:wrap;\n",
              "      gap: 12px;\n",
              "    }\n",
              "\n",
              "    .colab-df-convert {\n",
              "      background-color: #E8F0FE;\n",
              "      border: none;\n",
              "      border-radius: 50%;\n",
              "      cursor: pointer;\n",
              "      display: none;\n",
              "      fill: #1967D2;\n",
              "      height: 32px;\n",
              "      padding: 0 0 0 0;\n",
              "      width: 32px;\n",
              "    }\n",
              "\n",
              "    .colab-df-convert:hover {\n",
              "      background-color: #E2EBFA;\n",
              "      box-shadow: 0px 1px 2px rgba(60, 64, 67, 0.3), 0px 1px 3px 1px rgba(60, 64, 67, 0.15);\n",
              "      fill: #174EA6;\n",
              "    }\n",
              "\n",
              "    [theme=dark] .colab-df-convert {\n",
              "      background-color: #3B4455;\n",
              "      fill: #D2E3FC;\n",
              "    }\n",
              "\n",
              "    [theme=dark] .colab-df-convert:hover {\n",
              "      background-color: #434B5C;\n",
              "      box-shadow: 0px 1px 3px 1px rgba(0, 0, 0, 0.15);\n",
              "      filter: drop-shadow(0px 1px 2px rgba(0, 0, 0, 0.3));\n",
              "      fill: #FFFFFF;\n",
              "    }\n",
              "  </style>\n",
              "\n",
              "      <script>\n",
              "        const buttonEl =\n",
              "          document.querySelector('#df-93ba8ecd-21c7-4905-8126-60a205bbc103 button.colab-df-convert');\n",
              "        buttonEl.style.display =\n",
              "          google.colab.kernel.accessAllowed ? 'block' : 'none';\n",
              "\n",
              "        async function convertToInteractive(key) {\n",
              "          const element = document.querySelector('#df-93ba8ecd-21c7-4905-8126-60a205bbc103');\n",
              "          const dataTable =\n",
              "            await google.colab.kernel.invokeFunction('convertToInteractive',\n",
              "                                                     [key], {});\n",
              "          if (!dataTable) return;\n",
              "\n",
              "          const docLinkHtml = 'Like what you see? Visit the ' +\n",
              "            '<a target=\"_blank\" href=https://colab.research.google.com/notebooks/data_table.ipynb>data table notebook</a>'\n",
              "            + ' to learn more about interactive tables.';\n",
              "          element.innerHTML = '';\n",
              "          dataTable['output_type'] = 'display_data';\n",
              "          await google.colab.output.renderOutput(dataTable, element);\n",
              "          const docLink = document.createElement('div');\n",
              "          docLink.innerHTML = docLinkHtml;\n",
              "          element.appendChild(docLink);\n",
              "        }\n",
              "      </script>\n",
              "    </div>\n",
              "  </div>\n",
              "  "
            ]
          },
          "metadata": {}
        },
        {
          "output_type": "display_data",
          "data": {
            "text/plain": [
              "                                                                                                                                                                                                                                                                                                                                                                                                                                                                                                                                 Values\n",
              "Domain                                                                                                                                                                                                                                                                                                                                                                                                                                                                                                                                 \n",
              "'workclass'                                                                                                                                                                                                                                                                                                                                                                                                  '?', 'Federal-gov', 'Local-gov', 'Never-worked', 'Private', 'Self-emp-inc', 'Self-emp-not-inc', 'State-gov', 'Without-pay'\n",
              "'education'                                                                                                                                                                                                                                                                                                                                       '10th', '11th', '12th', '1st-4th', '5th-6th', '7th-8th', '9th', 'Assoc-acdm', 'Assoc-voc', 'Bachelors', 'Doctorate', 'HS-grad', 'Masters', 'Preschool', 'Prof-school', 'Some-college'\n",
              "'marital-status'                                                                                                                                                                                                                                                                                                                                                                                                'Divorced', 'Married-AF-spouse', 'Married-civ-spouse', 'Married-spouse-absent', 'Never-married', 'Separated', 'Widowed'\n",
              "'occupation'                                                                                                                                                                                                                                                                  '?', 'Adm-clerical', 'Armed-Forces', 'Craft-repair', 'Exec-managerial', 'Farming-fishing', 'Handlers-cleaners', 'Machine-op-inspct', 'Other-service', 'Priv-house-serv', 'Prof-specialty', 'Protective-serv', 'Sales', 'Tech-support', 'Transport-moving'\n",
              "'relationship'                                                                                                                                                                                                                                                                                                                                                                                                                                           'Husband', 'Not-in-family', 'Other-relative', 'Own-child', 'Unmarried', 'Wife'\n",
              "'race'                                                                                                                                                                                                                                                                                                                                                                                                                                                            'Amer-Indian-Eskimo', 'Asian-Pac-Islander', 'Black', 'Other', 'White'\n",
              "'sex'                                                                                                                                                                                                                                                                                                                                                                                                                                                                                                                  'Female', 'Male'\n",
              "'native-country'  '?', 'Cambodia', 'Canada', 'China', 'Columbia', 'Cuba', 'Dominican-Republic', 'Ecuador', 'El-Salvador', 'England', 'France', 'Germany', 'Greece', 'Guatemala', 'Haiti', 'Holand-Netherlands', 'Honduras', 'Hong', 'Hungary', 'India', 'Iran', 'Ireland', 'Italy', 'Jamaica', 'Japan', 'Laos', 'Mexico', 'Nicaragua', 'Outlying-US(Guam-USVI-etc)', 'Peru', 'Philippines', 'Poland', 'Portugal', 'Puerto-Rico', 'Scotland', 'South', 'Taiwan', 'Thailand', 'Trinadad&Tobago', 'United-States', 'Vietnam', 'Yugoslavia'\n",
              "'label'                                                                                                                                                                                                                                                                                                                                                                                                                                                                                                                 '<=50K', '>50K'"
            ],
            "text/html": [
              "\n",
              "  <div id=\"df-fd3cadf7-91b4-4f8a-99ed-755b84c6531d\">\n",
              "    <div class=\"colab-df-container\">\n",
              "      <div>\n",
              "<style scoped>\n",
              "    .dataframe tbody tr th:only-of-type {\n",
              "        vertical-align: middle;\n",
              "    }\n",
              "\n",
              "    .dataframe tbody tr th {\n",
              "        vertical-align: top;\n",
              "    }\n",
              "\n",
              "    .dataframe thead th {\n",
              "        text-align: right;\n",
              "    }\n",
              "</style>\n",
              "<table border=\"1\" class=\"dataframe\">\n",
              "  <thead>\n",
              "    <tr style=\"text-align: right;\">\n",
              "      <th></th>\n",
              "      <th>Values</th>\n",
              "    </tr>\n",
              "    <tr>\n",
              "      <th>Domain</th>\n",
              "      <th></th>\n",
              "    </tr>\n",
              "  </thead>\n",
              "  <tbody>\n",
              "    <tr>\n",
              "      <th>'workclass'</th>\n",
              "      <td>'?', 'Federal-gov', 'Local-gov', 'Never-worked', 'Private', 'Self-emp-inc', 'Self-emp-not-inc', 'State-gov', 'Without-pay'</td>\n",
              "    </tr>\n",
              "    <tr>\n",
              "      <th>'education'</th>\n",
              "      <td>'10th', '11th', '12th', '1st-4th', '5th-6th', '7th-8th', '9th', 'Assoc-acdm', 'Assoc-voc', 'Bachelors', 'Doctorate', 'HS-grad', 'Masters', 'Preschool', 'Prof-school', 'Some-college'</td>\n",
              "    </tr>\n",
              "    <tr>\n",
              "      <th>'marital-status'</th>\n",
              "      <td>'Divorced', 'Married-AF-spouse', 'Married-civ-spouse', 'Married-spouse-absent', 'Never-married', 'Separated', 'Widowed'</td>\n",
              "    </tr>\n",
              "    <tr>\n",
              "      <th>'occupation'</th>\n",
              "      <td>'?', 'Adm-clerical', 'Armed-Forces', 'Craft-repair', 'Exec-managerial', 'Farming-fishing', 'Handlers-cleaners', 'Machine-op-inspct', 'Other-service', 'Priv-house-serv', 'Prof-specialty', 'Protective-serv', 'Sales', 'Tech-support', 'Transport-moving'</td>\n",
              "    </tr>\n",
              "    <tr>\n",
              "      <th>'relationship'</th>\n",
              "      <td>'Husband', 'Not-in-family', 'Other-relative', 'Own-child', 'Unmarried', 'Wife'</td>\n",
              "    </tr>\n",
              "    <tr>\n",
              "      <th>'race'</th>\n",
              "      <td>'Amer-Indian-Eskimo', 'Asian-Pac-Islander', 'Black', 'Other', 'White'</td>\n",
              "    </tr>\n",
              "    <tr>\n",
              "      <th>'sex'</th>\n",
              "      <td>'Female', 'Male'</td>\n",
              "    </tr>\n",
              "    <tr>\n",
              "      <th>'native-country'</th>\n",
              "      <td>'?', 'Cambodia', 'Canada', 'China', 'Columbia', 'Cuba', 'Dominican-Republic', 'Ecuador', 'El-Salvador', 'England', 'France', 'Germany', 'Greece', 'Guatemala', 'Haiti', 'Holand-Netherlands', 'Honduras', 'Hong', 'Hungary', 'India', 'Iran', 'Ireland', 'Italy', 'Jamaica', 'Japan', 'Laos', 'Mexico', 'Nicaragua', 'Outlying-US(Guam-USVI-etc)', 'Peru', 'Philippines', 'Poland', 'Portugal', 'Puerto-Rico', 'Scotland', 'South', 'Taiwan', 'Thailand', 'Trinadad&amp;Tobago', 'United-States', 'Vietnam', 'Yugoslavia'</td>\n",
              "    </tr>\n",
              "    <tr>\n",
              "      <th>'label'</th>\n",
              "      <td>'&lt;=50K', '&gt;50K'</td>\n",
              "    </tr>\n",
              "  </tbody>\n",
              "</table>\n",
              "</div>\n",
              "      <button class=\"colab-df-convert\" onclick=\"convertToInteractive('df-fd3cadf7-91b4-4f8a-99ed-755b84c6531d')\"\n",
              "              title=\"Convert this dataframe to an interactive table.\"\n",
              "              style=\"display:none;\">\n",
              "        \n",
              "  <svg xmlns=\"http://www.w3.org/2000/svg\" height=\"24px\"viewBox=\"0 0 24 24\"\n",
              "       width=\"24px\">\n",
              "    <path d=\"M0 0h24v24H0V0z\" fill=\"none\"/>\n",
              "    <path d=\"M18.56 5.44l.94 2.06.94-2.06 2.06-.94-2.06-.94-.94-2.06-.94 2.06-2.06.94zm-11 1L8.5 8.5l.94-2.06 2.06-.94-2.06-.94L8.5 2.5l-.94 2.06-2.06.94zm10 10l.94 2.06.94-2.06 2.06-.94-2.06-.94-.94-2.06-.94 2.06-2.06.94z\"/><path d=\"M17.41 7.96l-1.37-1.37c-.4-.4-.92-.59-1.43-.59-.52 0-1.04.2-1.43.59L10.3 9.45l-7.72 7.72c-.78.78-.78 2.05 0 2.83L4 21.41c.39.39.9.59 1.41.59.51 0 1.02-.2 1.41-.59l7.78-7.78 2.81-2.81c.8-.78.8-2.07 0-2.86zM5.41 20L4 18.59l7.72-7.72 1.47 1.35L5.41 20z\"/>\n",
              "  </svg>\n",
              "      </button>\n",
              "      \n",
              "  <style>\n",
              "    .colab-df-container {\n",
              "      display:flex;\n",
              "      flex-wrap:wrap;\n",
              "      gap: 12px;\n",
              "    }\n",
              "\n",
              "    .colab-df-convert {\n",
              "      background-color: #E8F0FE;\n",
              "      border: none;\n",
              "      border-radius: 50%;\n",
              "      cursor: pointer;\n",
              "      display: none;\n",
              "      fill: #1967D2;\n",
              "      height: 32px;\n",
              "      padding: 0 0 0 0;\n",
              "      width: 32px;\n",
              "    }\n",
              "\n",
              "    .colab-df-convert:hover {\n",
              "      background-color: #E2EBFA;\n",
              "      box-shadow: 0px 1px 2px rgba(60, 64, 67, 0.3), 0px 1px 3px 1px rgba(60, 64, 67, 0.15);\n",
              "      fill: #174EA6;\n",
              "    }\n",
              "\n",
              "    [theme=dark] .colab-df-convert {\n",
              "      background-color: #3B4455;\n",
              "      fill: #D2E3FC;\n",
              "    }\n",
              "\n",
              "    [theme=dark] .colab-df-convert:hover {\n",
              "      background-color: #434B5C;\n",
              "      box-shadow: 0px 1px 3px 1px rgba(0, 0, 0, 0.15);\n",
              "      filter: drop-shadow(0px 1px 2px rgba(0, 0, 0, 0.3));\n",
              "      fill: #FFFFFF;\n",
              "    }\n",
              "  </style>\n",
              "\n",
              "      <script>\n",
              "        const buttonEl =\n",
              "          document.querySelector('#df-fd3cadf7-91b4-4f8a-99ed-755b84c6531d button.colab-df-convert');\n",
              "        buttonEl.style.display =\n",
              "          google.colab.kernel.accessAllowed ? 'block' : 'none';\n",
              "\n",
              "        async function convertToInteractive(key) {\n",
              "          const element = document.querySelector('#df-fd3cadf7-91b4-4f8a-99ed-755b84c6531d');\n",
              "          const dataTable =\n",
              "            await google.colab.kernel.invokeFunction('convertToInteractive',\n",
              "                                                     [key], {});\n",
              "          if (!dataTable) return;\n",
              "\n",
              "          const docLinkHtml = 'Like what you see? Visit the ' +\n",
              "            '<a target=\"_blank\" href=https://colab.research.google.com/notebooks/data_table.ipynb>data table notebook</a>'\n",
              "            + ' to learn more about interactive tables.';\n",
              "          element.innerHTML = '';\n",
              "          dataTable['output_type'] = 'display_data';\n",
              "          await google.colab.output.renderOutput(dataTable, element);\n",
              "          const docLink = document.createElement('div');\n",
              "          docLink.innerHTML = docLinkHtml;\n",
              "          element.appendChild(docLink);\n",
              "        }\n",
              "      </script>\n",
              "    </div>\n",
              "  </div>\n",
              "  "
            ]
          },
          "metadata": {}
        }
      ]
    },
    {
      "cell_type": "markdown",
      "source": [
        "# ***Generate and visualize evaluation dataset statistics***\n",
        "The next step after generating the schema is to now look at the evaluation dataset. You will begin by computing its statistics then compare it with the training statistics. It is important that the numerical and categorical features of the evaluation data belongs roughly to the same range as the training data. Otherwise, you might have distribution skew that will negatively affect the accuracy of your model.\n",
        "\n",
        "TFDV allows you to generate both the training and evaluation dataset statistics side-by-side. You can use the visualize_statistics() function and pass additional parameters to overlay the statistics from both datasets (referenced as left-hand side and right-hand side statistics). Let's see what these parameters are:\n",
        "\n",
        "- lhs_statistics: Required parameter. Expects an instance of DatasetFeatureStatisticsList.\n",
        "- rhs_statistics: Expects an instance of DatasetFeatureStatisticsList to compare with lhs_statistics.\n",
        "- lhs_name: Name of the lhs_statistics dataset.\n",
        "- rhs_name: Name of the rhs_statistics dataset."
      ],
      "metadata": {
        "id": "GqbGFAHafNaO"
      }
    },
    {
      "cell_type": "code",
      "source": [
        "# Generate evaluation dataset statistics\n",
        "eval_stats = tfdv.generate_statistics_from_dataframe(eval_df)\n",
        "\n",
        "# Compare training with evaluation\n",
        "tfdv.visualize_statistics(\n",
        "    lhs_statistics=eval_stats, \n",
        "    rhs_statistics=train_stats, \n",
        "    lhs_name='EVAL_DATASET', \n",
        "    rhs_name='TRAIN_DATASET'\n",
        ")"
      ],
      "metadata": {
        "colab": {
          "base_uri": "https://localhost:8080/",
          "height": 1000
        },
        "id": "ZicN33uxen82",
        "outputId": "55063982-c20a-4f4d-9acc-40163ea4a3fb"
      },
      "execution_count": 35,
      "outputs": [
        {
          "output_type": "display_data",
          "data": {
            "text/plain": [
              "<IPython.core.display.HTML object>"
            ],
            "text/html": [
              "<iframe id='facets-iframe' width=\"100%\" height=\"500px\"></iframe>\n",
              "        <script>\n",
              "        facets_iframe = document.getElementById('facets-iframe');\n",
              "        facets_html = '<script src=\"https://cdnjs.cloudflare.com/ajax/libs/webcomponentsjs/1.3.3/webcomponents-lite.js\"><\\/script><link rel=\"import\" href=\"https://raw.githubusercontent.com/PAIR-code/facets/master/facets-dist/facets-jupyter.html\"><facets-overview proto-input=\"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\"></facets-overview>';\n",
              "        facets_iframe.srcdoc = facets_html;\n",
              "         facets_iframe.id = \"\";\n",
              "         setTimeout(() => {\n",
              "           facets_iframe.setAttribute('height', facets_iframe.contentWindow.document.body.offsetHeight + 'px')\n",
              "         }, 1500)\n",
              "         </script>"
            ]
          },
          "metadata": {}
        }
      ]
    },
    {
      "cell_type": "code",
      "source": [
        "# fitter the age range\n",
        "\n",
        "eval_df = eval_df[eval_df['age'] > 16]\n",
        "eval_df = eval_df[eval_df['age'] > 19]\n",
        "\n",
        "# drop missing values\n",
        "eval_df.dropna(inplace=True)\n"
      ],
      "metadata": {
        "id": "7y9b2gzAhzxR"
      },
      "execution_count": 36,
      "outputs": []
    },
    {
      "cell_type": "markdown",
      "source": [
        "**You can then compute the statistics again and see the difference in the results.**"
      ],
      "metadata": {
        "id": "N1DkIPLcjlJh"
      }
    },
    {
      "cell_type": "code",
      "source": [
        "# Generate evaluation dataset statistics\n",
        "eval_stats = tfdv.generate_statistics_from_dataframe(eval_df)\n",
        "\n",
        "# Compare training with evaluation\n",
        "tfdv.visualize_statistics(\n",
        "    lhs_statistics=eval_stats, \n",
        "    rhs_statistics=train_stats, \n",
        "    lhs_name='EVAL_DATASET', \n",
        "    rhs_name='TRAIN_DATASET'\n",
        ")"
      ],
      "metadata": {
        "colab": {
          "base_uri": "https://localhost:8080/",
          "height": 1000
        },
        "id": "xUGA8jkPj1dQ",
        "outputId": "77ab7b72-4328-4a75-c601-79314fe75444"
      },
      "execution_count": 37,
      "outputs": [
        {
          "output_type": "display_data",
          "data": {
            "text/plain": [
              "<IPython.core.display.HTML object>"
            ],
            "text/html": [
              "<iframe id='facets-iframe' width=\"100%\" height=\"500px\"></iframe>\n",
              "        <script>\n",
              "        facets_iframe = document.getElementById('facets-iframe');\n",
              "        facets_html = '<script src=\"https://cdnjs.cloudflare.com/ajax/libs/webcomponentsjs/1.3.3/webcomponents-lite.js\"><\\/script><link rel=\"import\" href=\"https://raw.githubusercontent.com/PAIR-code/facets/master/facets-dist/facets-jupyter.html\"><facets-overview proto-input=\"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\"></facets-overview>';\n",
              "        facets_iframe.srcdoc = facets_html;\n",
              "         facets_iframe.id = \"\";\n",
              "         setTimeout(() => {\n",
              "           facets_iframe.setAttribute('height', facets_iframe.contentWindow.document.body.offsetHeight + 'px')\n",
              "         }, 1500)\n",
              "         </script>"
            ]
          },
          "metadata": {}
        }
      ]
    },
    {
      "cell_type": "markdown",
      "source": [
        "### **Calculate and display evaluation anomalies**\n",
        "You can use your reference schema to check for anomalies such as new values for a specific feature in the evaluation data. Detected anomalies can either be considered a real error that needs to be cleaned, or depending on your domain knowledge and the specific case, they can be accepted.\n",
        "\n",
        "Let's detect and display evaluation anomalies and see if there are any problems that need to be addressed"
      ],
      "metadata": {
        "id": "5Vz7YMv2ku0x"
      }
    },
    {
      "cell_type": "code",
      "source": [
        "# Check evaluation data for errors by validating the evaluation dataset statistics using the reference schema\n",
        "anomalies =  tfdv.validate_statistics(statistics=eval_stats, schema=schema)\n",
        "\n",
        "# Visualize anomalies\n",
        "tfdv.display_anomalies(anomalies)"
      ],
      "metadata": {
        "colab": {
          "base_uri": "https://localhost:8080/",
          "height": 57
        },
        "id": "ZxI8QqM7j1_-",
        "outputId": "98afbfa1-fbd9-4dd7-e8cb-1fd7c67dfaef"
      },
      "execution_count": 38,
      "outputs": [
        {
          "output_type": "display_data",
          "data": {
            "text/plain": [
              "<IPython.core.display.HTML object>"
            ],
            "text/html": [
              "<h4 style=\"color:green;\">No anomalies found.</h4>"
            ]
          },
          "metadata": {}
        }
      ]
    },
    {
      "cell_type": "markdown",
      "source": [
        "## **Revising the Schema**\n",
        "As shown in the results above, TFDV is able to detect the remaining irregularities we introduced earlier. The short and long descriptions tell us what were detected. As expected, there are string values for race, native-country and occupation that are not found in the domain of the training set schema (you might see a different result if the shuffling of the datasets was applied). What you decide to do about the anomalies depend on your domain knowledge of the data. If an anomaly indicates a data error, then the underlying data should be fixed. Otherwise, you can update the schema to include the values in the evaluation dataset.\n",
        "\n",
        "TFDV provides a set of utility methods and parameters that you can use for revising the inferred schema. This reference lists down the type of anomalies and the parameters that you can edit but we'll focus only on a couple here.\n",
        "\n",
        "- You can relax the minimum fraction of values that must come from the domain of a particular feature (as described by ENUM_TYPE_UNEXPECTED_STRING_VALUES in the reference):\n",
        "tfdv.get_feature(schema, 'feature_column_name').distribution_constraints.min_domain_mass = <float: 0.0 to 1.0>\n",
        "- You can add a new value to the domain of a particular feature:\n",
        "tfdv.get_domain(schema, 'feature_column_name').value.append('string')\n",
        "Let's use these in the next section.\n",
        "\n",
        "### **Fix anomalies in the schema¶**\n",
        "Let's say that we want to accept the string anomalies reported as valid. If you want to tolerate a fraction of missing values from the evaluation dataset, you can do it like this:"
      ],
      "metadata": {
        "id": "imfZraJwmJdi"
      }
    },
    {
      "cell_type": "code",
      "source": [
        "# Relax the minimum fraction of values that must come from the domain for the feature `native-country`\n",
        "country_feature = tfdv.get_feature(schema, 'native-country')\n",
        "country_feature.distribution_constraints.min_domain_mass = 0.9\n",
        "\n",
        "# Relax the minimum fraction of values that must come from the domain for the feature `occupation`\n",
        "occupation_feature = tfdv.get_feature(schema, 'occupation')\n",
        "occupation_feature.distribution_constraints.min_domain_mass = 0.9"
      ],
      "metadata": {
        "id": "6P-jDscxmn3c"
      },
      "execution_count": 39,
      "outputs": []
    },
    {
      "cell_type": "markdown",
      "source": [
        "If you want to be rigid and instead add only valid values to the domain, you can do it like this:"
      ],
      "metadata": {
        "id": "Fe2zMtwUmwdi"
      }
    },
    {
      "cell_type": "code",
      "source": [
        "# Add new value to the domain of the feature `race`\n",
        "race_domain = tfdv.get_domain(schema, 'race')\n",
        "race_domain.value.append('Asian')"
      ],
      "metadata": {
        "id": "q626b0mLm0M-"
      },
      "execution_count": 40,
      "outputs": []
    },
    {
      "cell_type": "markdown",
      "source": [
        "In addition, you can also restrict the range of a numerical feature. This will let you know of invalid values without having to inspect it visually (e.g. the invalid age values earlier)."
      ],
      "metadata": {
        "id": "UXdl-Gdvm_GA"
      }
    },
    {
      "cell_type": "code",
      "source": [
        "# Restrict the range of the `age` feature\n",
        "tfdv.set_domain(schema, 'age', schema_pb2.IntDomain(name='age', min=17, max=90))\n",
        "\n",
        "# Display the modified schema. Notice the `Domain` column of `age`.\n",
        "tfdv.display_schema(schema)"
      ],
      "metadata": {
        "colab": {
          "base_uri": "https://localhost:8080/",
          "height": 966
        },
        "id": "swZ5ARj6nEaU",
        "outputId": "ae9637ce-039f-49ba-f222-2f6bf0d5a9fe"
      },
      "execution_count": 41,
      "outputs": [
        {
          "output_type": "display_data",
          "data": {
            "text/plain": [
              "                    Type  Presence Valency            Domain\n",
              "Feature name                                                \n",
              "'age'                INT  required          min: 17; max: 90\n",
              "'workclass'       STRING  required               'workclass'\n",
              "'fnlwgt'             INT  required                         -\n",
              "'education'       STRING  required               'education'\n",
              "'education-num'      INT  required                         -\n",
              "'marital-status'  STRING  required          'marital-status'\n",
              "'occupation'      STRING  required              'occupation'\n",
              "'relationship'    STRING  required            'relationship'\n",
              "'race'            STRING  required                    'race'\n",
              "'sex'             STRING  required                     'sex'\n",
              "'capital-gain'       INT  required                         -\n",
              "'capital-loss'       INT  required                         -\n",
              "'hours-per-week'     INT  required                         -\n",
              "'native-country'  STRING  required          'native-country'\n",
              "'label'           STRING  required                   'label'"
            ],
            "text/html": [
              "\n",
              "  <div id=\"df-b108b59d-a970-4e4a-b9ef-c41215b61975\">\n",
              "    <div class=\"colab-df-container\">\n",
              "      <div>\n",
              "<style scoped>\n",
              "    .dataframe tbody tr th:only-of-type {\n",
              "        vertical-align: middle;\n",
              "    }\n",
              "\n",
              "    .dataframe tbody tr th {\n",
              "        vertical-align: top;\n",
              "    }\n",
              "\n",
              "    .dataframe thead th {\n",
              "        text-align: right;\n",
              "    }\n",
              "</style>\n",
              "<table border=\"1\" class=\"dataframe\">\n",
              "  <thead>\n",
              "    <tr style=\"text-align: right;\">\n",
              "      <th></th>\n",
              "      <th>Type</th>\n",
              "      <th>Presence</th>\n",
              "      <th>Valency</th>\n",
              "      <th>Domain</th>\n",
              "    </tr>\n",
              "    <tr>\n",
              "      <th>Feature name</th>\n",
              "      <th></th>\n",
              "      <th></th>\n",
              "      <th></th>\n",
              "      <th></th>\n",
              "    </tr>\n",
              "  </thead>\n",
              "  <tbody>\n",
              "    <tr>\n",
              "      <th>'age'</th>\n",
              "      <td>INT</td>\n",
              "      <td>required</td>\n",
              "      <td></td>\n",
              "      <td>min: 17; max: 90</td>\n",
              "    </tr>\n",
              "    <tr>\n",
              "      <th>'workclass'</th>\n",
              "      <td>STRING</td>\n",
              "      <td>required</td>\n",
              "      <td></td>\n",
              "      <td>'workclass'</td>\n",
              "    </tr>\n",
              "    <tr>\n",
              "      <th>'fnlwgt'</th>\n",
              "      <td>INT</td>\n",
              "      <td>required</td>\n",
              "      <td></td>\n",
              "      <td>-</td>\n",
              "    </tr>\n",
              "    <tr>\n",
              "      <th>'education'</th>\n",
              "      <td>STRING</td>\n",
              "      <td>required</td>\n",
              "      <td></td>\n",
              "      <td>'education'</td>\n",
              "    </tr>\n",
              "    <tr>\n",
              "      <th>'education-num'</th>\n",
              "      <td>INT</td>\n",
              "      <td>required</td>\n",
              "      <td></td>\n",
              "      <td>-</td>\n",
              "    </tr>\n",
              "    <tr>\n",
              "      <th>'marital-status'</th>\n",
              "      <td>STRING</td>\n",
              "      <td>required</td>\n",
              "      <td></td>\n",
              "      <td>'marital-status'</td>\n",
              "    </tr>\n",
              "    <tr>\n",
              "      <th>'occupation'</th>\n",
              "      <td>STRING</td>\n",
              "      <td>required</td>\n",
              "      <td></td>\n",
              "      <td>'occupation'</td>\n",
              "    </tr>\n",
              "    <tr>\n",
              "      <th>'relationship'</th>\n",
              "      <td>STRING</td>\n",
              "      <td>required</td>\n",
              "      <td></td>\n",
              "      <td>'relationship'</td>\n",
              "    </tr>\n",
              "    <tr>\n",
              "      <th>'race'</th>\n",
              "      <td>STRING</td>\n",
              "      <td>required</td>\n",
              "      <td></td>\n",
              "      <td>'race'</td>\n",
              "    </tr>\n",
              "    <tr>\n",
              "      <th>'sex'</th>\n",
              "      <td>STRING</td>\n",
              "      <td>required</td>\n",
              "      <td></td>\n",
              "      <td>'sex'</td>\n",
              "    </tr>\n",
              "    <tr>\n",
              "      <th>'capital-gain'</th>\n",
              "      <td>INT</td>\n",
              "      <td>required</td>\n",
              "      <td></td>\n",
              "      <td>-</td>\n",
              "    </tr>\n",
              "    <tr>\n",
              "      <th>'capital-loss'</th>\n",
              "      <td>INT</td>\n",
              "      <td>required</td>\n",
              "      <td></td>\n",
              "      <td>-</td>\n",
              "    </tr>\n",
              "    <tr>\n",
              "      <th>'hours-per-week'</th>\n",
              "      <td>INT</td>\n",
              "      <td>required</td>\n",
              "      <td></td>\n",
              "      <td>-</td>\n",
              "    </tr>\n",
              "    <tr>\n",
              "      <th>'native-country'</th>\n",
              "      <td>STRING</td>\n",
              "      <td>required</td>\n",
              "      <td></td>\n",
              "      <td>'native-country'</td>\n",
              "    </tr>\n",
              "    <tr>\n",
              "      <th>'label'</th>\n",
              "      <td>STRING</td>\n",
              "      <td>required</td>\n",
              "      <td></td>\n",
              "      <td>'label'</td>\n",
              "    </tr>\n",
              "  </tbody>\n",
              "</table>\n",
              "</div>\n",
              "      <button class=\"colab-df-convert\" onclick=\"convertToInteractive('df-b108b59d-a970-4e4a-b9ef-c41215b61975')\"\n",
              "              title=\"Convert this dataframe to an interactive table.\"\n",
              "              style=\"display:none;\">\n",
              "        \n",
              "  <svg xmlns=\"http://www.w3.org/2000/svg\" height=\"24px\"viewBox=\"0 0 24 24\"\n",
              "       width=\"24px\">\n",
              "    <path d=\"M0 0h24v24H0V0z\" fill=\"none\"/>\n",
              "    <path d=\"M18.56 5.44l.94 2.06.94-2.06 2.06-.94-2.06-.94-.94-2.06-.94 2.06-2.06.94zm-11 1L8.5 8.5l.94-2.06 2.06-.94-2.06-.94L8.5 2.5l-.94 2.06-2.06.94zm10 10l.94 2.06.94-2.06 2.06-.94-2.06-.94-.94-2.06-.94 2.06-2.06.94z\"/><path d=\"M17.41 7.96l-1.37-1.37c-.4-.4-.92-.59-1.43-.59-.52 0-1.04.2-1.43.59L10.3 9.45l-7.72 7.72c-.78.78-.78 2.05 0 2.83L4 21.41c.39.39.9.59 1.41.59.51 0 1.02-.2 1.41-.59l7.78-7.78 2.81-2.81c.8-.78.8-2.07 0-2.86zM5.41 20L4 18.59l7.72-7.72 1.47 1.35L5.41 20z\"/>\n",
              "  </svg>\n",
              "      </button>\n",
              "      \n",
              "  <style>\n",
              "    .colab-df-container {\n",
              "      display:flex;\n",
              "      flex-wrap:wrap;\n",
              "      gap: 12px;\n",
              "    }\n",
              "\n",
              "    .colab-df-convert {\n",
              "      background-color: #E8F0FE;\n",
              "      border: none;\n",
              "      border-radius: 50%;\n",
              "      cursor: pointer;\n",
              "      display: none;\n",
              "      fill: #1967D2;\n",
              "      height: 32px;\n",
              "      padding: 0 0 0 0;\n",
              "      width: 32px;\n",
              "    }\n",
              "\n",
              "    .colab-df-convert:hover {\n",
              "      background-color: #E2EBFA;\n",
              "      box-shadow: 0px 1px 2px rgba(60, 64, 67, 0.3), 0px 1px 3px 1px rgba(60, 64, 67, 0.15);\n",
              "      fill: #174EA6;\n",
              "    }\n",
              "\n",
              "    [theme=dark] .colab-df-convert {\n",
              "      background-color: #3B4455;\n",
              "      fill: #D2E3FC;\n",
              "    }\n",
              "\n",
              "    [theme=dark] .colab-df-convert:hover {\n",
              "      background-color: #434B5C;\n",
              "      box-shadow: 0px 1px 3px 1px rgba(0, 0, 0, 0.15);\n",
              "      filter: drop-shadow(0px 1px 2px rgba(0, 0, 0, 0.3));\n",
              "      fill: #FFFFFF;\n",
              "    }\n",
              "  </style>\n",
              "\n",
              "      <script>\n",
              "        const buttonEl =\n",
              "          document.querySelector('#df-b108b59d-a970-4e4a-b9ef-c41215b61975 button.colab-df-convert');\n",
              "        buttonEl.style.display =\n",
              "          google.colab.kernel.accessAllowed ? 'block' : 'none';\n",
              "\n",
              "        async function convertToInteractive(key) {\n",
              "          const element = document.querySelector('#df-b108b59d-a970-4e4a-b9ef-c41215b61975');\n",
              "          const dataTable =\n",
              "            await google.colab.kernel.invokeFunction('convertToInteractive',\n",
              "                                                     [key], {});\n",
              "          if (!dataTable) return;\n",
              "\n",
              "          const docLinkHtml = 'Like what you see? Visit the ' +\n",
              "            '<a target=\"_blank\" href=https://colab.research.google.com/notebooks/data_table.ipynb>data table notebook</a>'\n",
              "            + ' to learn more about interactive tables.';\n",
              "          element.innerHTML = '';\n",
              "          dataTable['output_type'] = 'display_data';\n",
              "          await google.colab.output.renderOutput(dataTable, element);\n",
              "          const docLink = document.createElement('div');\n",
              "          docLink.innerHTML = docLinkHtml;\n",
              "          element.appendChild(docLink);\n",
              "        }\n",
              "      </script>\n",
              "    </div>\n",
              "  </div>\n",
              "  "
            ]
          },
          "metadata": {}
        },
        {
          "output_type": "display_data",
          "data": {
            "text/plain": [
              "                                                                                                                                                                                                                                                                                                                                                                                                                                                                                                                                 Values\n",
              "Domain                                                                                                                                                                                                                                                                                                                                                                                                                                                                                                                                 \n",
              "'workclass'                                                                                                                                                                                                                                                                                                                                                                                                  '?', 'Federal-gov', 'Local-gov', 'Never-worked', 'Private', 'Self-emp-inc', 'Self-emp-not-inc', 'State-gov', 'Without-pay'\n",
              "'education'                                                                                                                                                                                                                                                                                                                                       '10th', '11th', '12th', '1st-4th', '5th-6th', '7th-8th', '9th', 'Assoc-acdm', 'Assoc-voc', 'Bachelors', 'Doctorate', 'HS-grad', 'Masters', 'Preschool', 'Prof-school', 'Some-college'\n",
              "'marital-status'                                                                                                                                                                                                                                                                                                                                                                                                'Divorced', 'Married-AF-spouse', 'Married-civ-spouse', 'Married-spouse-absent', 'Never-married', 'Separated', 'Widowed'\n",
              "'occupation'                                                                                                                                                                                                                                                                  '?', 'Adm-clerical', 'Armed-Forces', 'Craft-repair', 'Exec-managerial', 'Farming-fishing', 'Handlers-cleaners', 'Machine-op-inspct', 'Other-service', 'Priv-house-serv', 'Prof-specialty', 'Protective-serv', 'Sales', 'Tech-support', 'Transport-moving'\n",
              "'relationship'                                                                                                                                                                                                                                                                                                                                                                                                                                           'Husband', 'Not-in-family', 'Other-relative', 'Own-child', 'Unmarried', 'Wife'\n",
              "'race'                                                                                                                                                                                                                                                                                                                                                                                                                                                   'Amer-Indian-Eskimo', 'Asian-Pac-Islander', 'Black', 'Other', 'White', 'Asian'\n",
              "'sex'                                                                                                                                                                                                                                                                                                                                                                                                                                                                                                                  'Female', 'Male'\n",
              "'native-country'  '?', 'Cambodia', 'Canada', 'China', 'Columbia', 'Cuba', 'Dominican-Republic', 'Ecuador', 'El-Salvador', 'England', 'France', 'Germany', 'Greece', 'Guatemala', 'Haiti', 'Holand-Netherlands', 'Honduras', 'Hong', 'Hungary', 'India', 'Iran', 'Ireland', 'Italy', 'Jamaica', 'Japan', 'Laos', 'Mexico', 'Nicaragua', 'Outlying-US(Guam-USVI-etc)', 'Peru', 'Philippines', 'Poland', 'Portugal', 'Puerto-Rico', 'Scotland', 'South', 'Taiwan', 'Thailand', 'Trinadad&Tobago', 'United-States', 'Vietnam', 'Yugoslavia'\n",
              "'label'                                                                                                                                                                                                                                                                                                                                                                                                                                                                                                                 '<=50K', '>50K'"
            ],
            "text/html": [
              "\n",
              "  <div id=\"df-6ae32e96-4a55-4d8e-ba20-48fad0352dd3\">\n",
              "    <div class=\"colab-df-container\">\n",
              "      <div>\n",
              "<style scoped>\n",
              "    .dataframe tbody tr th:only-of-type {\n",
              "        vertical-align: middle;\n",
              "    }\n",
              "\n",
              "    .dataframe tbody tr th {\n",
              "        vertical-align: top;\n",
              "    }\n",
              "\n",
              "    .dataframe thead th {\n",
              "        text-align: right;\n",
              "    }\n",
              "</style>\n",
              "<table border=\"1\" class=\"dataframe\">\n",
              "  <thead>\n",
              "    <tr style=\"text-align: right;\">\n",
              "      <th></th>\n",
              "      <th>Values</th>\n",
              "    </tr>\n",
              "    <tr>\n",
              "      <th>Domain</th>\n",
              "      <th></th>\n",
              "    </tr>\n",
              "  </thead>\n",
              "  <tbody>\n",
              "    <tr>\n",
              "      <th>'workclass'</th>\n",
              "      <td>'?', 'Federal-gov', 'Local-gov', 'Never-worked', 'Private', 'Self-emp-inc', 'Self-emp-not-inc', 'State-gov', 'Without-pay'</td>\n",
              "    </tr>\n",
              "    <tr>\n",
              "      <th>'education'</th>\n",
              "      <td>'10th', '11th', '12th', '1st-4th', '5th-6th', '7th-8th', '9th', 'Assoc-acdm', 'Assoc-voc', 'Bachelors', 'Doctorate', 'HS-grad', 'Masters', 'Preschool', 'Prof-school', 'Some-college'</td>\n",
              "    </tr>\n",
              "    <tr>\n",
              "      <th>'marital-status'</th>\n",
              "      <td>'Divorced', 'Married-AF-spouse', 'Married-civ-spouse', 'Married-spouse-absent', 'Never-married', 'Separated', 'Widowed'</td>\n",
              "    </tr>\n",
              "    <tr>\n",
              "      <th>'occupation'</th>\n",
              "      <td>'?', 'Adm-clerical', 'Armed-Forces', 'Craft-repair', 'Exec-managerial', 'Farming-fishing', 'Handlers-cleaners', 'Machine-op-inspct', 'Other-service', 'Priv-house-serv', 'Prof-specialty', 'Protective-serv', 'Sales', 'Tech-support', 'Transport-moving'</td>\n",
              "    </tr>\n",
              "    <tr>\n",
              "      <th>'relationship'</th>\n",
              "      <td>'Husband', 'Not-in-family', 'Other-relative', 'Own-child', 'Unmarried', 'Wife'</td>\n",
              "    </tr>\n",
              "    <tr>\n",
              "      <th>'race'</th>\n",
              "      <td>'Amer-Indian-Eskimo', 'Asian-Pac-Islander', 'Black', 'Other', 'White', 'Asian'</td>\n",
              "    </tr>\n",
              "    <tr>\n",
              "      <th>'sex'</th>\n",
              "      <td>'Female', 'Male'</td>\n",
              "    </tr>\n",
              "    <tr>\n",
              "      <th>'native-country'</th>\n",
              "      <td>'?', 'Cambodia', 'Canada', 'China', 'Columbia', 'Cuba', 'Dominican-Republic', 'Ecuador', 'El-Salvador', 'England', 'France', 'Germany', 'Greece', 'Guatemala', 'Haiti', 'Holand-Netherlands', 'Honduras', 'Hong', 'Hungary', 'India', 'Iran', 'Ireland', 'Italy', 'Jamaica', 'Japan', 'Laos', 'Mexico', 'Nicaragua', 'Outlying-US(Guam-USVI-etc)', 'Peru', 'Philippines', 'Poland', 'Portugal', 'Puerto-Rico', 'Scotland', 'South', 'Taiwan', 'Thailand', 'Trinadad&amp;Tobago', 'United-States', 'Vietnam', 'Yugoslavia'</td>\n",
              "    </tr>\n",
              "    <tr>\n",
              "      <th>'label'</th>\n",
              "      <td>'&lt;=50K', '&gt;50K'</td>\n",
              "    </tr>\n",
              "  </tbody>\n",
              "</table>\n",
              "</div>\n",
              "      <button class=\"colab-df-convert\" onclick=\"convertToInteractive('df-6ae32e96-4a55-4d8e-ba20-48fad0352dd3')\"\n",
              "              title=\"Convert this dataframe to an interactive table.\"\n",
              "              style=\"display:none;\">\n",
              "        \n",
              "  <svg xmlns=\"http://www.w3.org/2000/svg\" height=\"24px\"viewBox=\"0 0 24 24\"\n",
              "       width=\"24px\">\n",
              "    <path d=\"M0 0h24v24H0V0z\" fill=\"none\"/>\n",
              "    <path d=\"M18.56 5.44l.94 2.06.94-2.06 2.06-.94-2.06-.94-.94-2.06-.94 2.06-2.06.94zm-11 1L8.5 8.5l.94-2.06 2.06-.94-2.06-.94L8.5 2.5l-.94 2.06-2.06.94zm10 10l.94 2.06.94-2.06 2.06-.94-2.06-.94-.94-2.06-.94 2.06-2.06.94z\"/><path d=\"M17.41 7.96l-1.37-1.37c-.4-.4-.92-.59-1.43-.59-.52 0-1.04.2-1.43.59L10.3 9.45l-7.72 7.72c-.78.78-.78 2.05 0 2.83L4 21.41c.39.39.9.59 1.41.59.51 0 1.02-.2 1.41-.59l7.78-7.78 2.81-2.81c.8-.78.8-2.07 0-2.86zM5.41 20L4 18.59l7.72-7.72 1.47 1.35L5.41 20z\"/>\n",
              "  </svg>\n",
              "      </button>\n",
              "      \n",
              "  <style>\n",
              "    .colab-df-container {\n",
              "      display:flex;\n",
              "      flex-wrap:wrap;\n",
              "      gap: 12px;\n",
              "    }\n",
              "\n",
              "    .colab-df-convert {\n",
              "      background-color: #E8F0FE;\n",
              "      border: none;\n",
              "      border-radius: 50%;\n",
              "      cursor: pointer;\n",
              "      display: none;\n",
              "      fill: #1967D2;\n",
              "      height: 32px;\n",
              "      padding: 0 0 0 0;\n",
              "      width: 32px;\n",
              "    }\n",
              "\n",
              "    .colab-df-convert:hover {\n",
              "      background-color: #E2EBFA;\n",
              "      box-shadow: 0px 1px 2px rgba(60, 64, 67, 0.3), 0px 1px 3px 1px rgba(60, 64, 67, 0.15);\n",
              "      fill: #174EA6;\n",
              "    }\n",
              "\n",
              "    [theme=dark] .colab-df-convert {\n",
              "      background-color: #3B4455;\n",
              "      fill: #D2E3FC;\n",
              "    }\n",
              "\n",
              "    [theme=dark] .colab-df-convert:hover {\n",
              "      background-color: #434B5C;\n",
              "      box-shadow: 0px 1px 3px 1px rgba(0, 0, 0, 0.15);\n",
              "      filter: drop-shadow(0px 1px 2px rgba(0, 0, 0, 0.3));\n",
              "      fill: #FFFFFF;\n",
              "    }\n",
              "  </style>\n",
              "\n",
              "      <script>\n",
              "        const buttonEl =\n",
              "          document.querySelector('#df-6ae32e96-4a55-4d8e-ba20-48fad0352dd3 button.colab-df-convert');\n",
              "        buttonEl.style.display =\n",
              "          google.colab.kernel.accessAllowed ? 'block' : 'none';\n",
              "\n",
              "        async function convertToInteractive(key) {\n",
              "          const element = document.querySelector('#df-6ae32e96-4a55-4d8e-ba20-48fad0352dd3');\n",
              "          const dataTable =\n",
              "            await google.colab.kernel.invokeFunction('convertToInteractive',\n",
              "                                                     [key], {});\n",
              "          if (!dataTable) return;\n",
              "\n",
              "          const docLinkHtml = 'Like what you see? Visit the ' +\n",
              "            '<a target=\"_blank\" href=https://colab.research.google.com/notebooks/data_table.ipynb>data table notebook</a>'\n",
              "            + ' to learn more about interactive tables.';\n",
              "          element.innerHTML = '';\n",
              "          dataTable['output_type'] = 'display_data';\n",
              "          await google.colab.output.renderOutput(dataTable, element);\n",
              "          const docLink = document.createElement('div');\n",
              "          docLink.innerHTML = docLinkHtml;\n",
              "          element.appendChild(docLink);\n",
              "        }\n",
              "      </script>\n",
              "    </div>\n",
              "  </div>\n",
              "  "
            ]
          },
          "metadata": {}
        }
      ]
    },
    {
      "cell_type": "markdown",
      "source": [
        "With these revisions, running the validation should now show no anomalies."
      ],
      "metadata": {
        "id": "fPh52QkGncnP"
      }
    },
    {
      "cell_type": "code",
      "source": [
        "# Validate eval stats after updating the schema \n",
        "updated_anomalies = tfdv.validate_statistics(eval_stats, schema)\n",
        "tfdv.display_anomalies(updated_anomalies)"
      ],
      "metadata": {
        "colab": {
          "base_uri": "https://localhost:8080/",
          "height": 57
        },
        "id": "jCqwcczdnegA",
        "outputId": "837d6f23-1940-42e1-bf71-5079e4e91288"
      },
      "execution_count": 42,
      "outputs": [
        {
          "output_type": "display_data",
          "data": {
            "text/plain": [
              "<IPython.core.display.HTML object>"
            ],
            "text/html": [
              "<h4 style=\"color:green;\">No anomalies found.</h4>"
            ]
          },
          "metadata": {}
        }
      ]
    },
    {
      "cell_type": "markdown",
      "source": [
        "## **Examining dataset slices**\n",
        "TFDV also allows you to analyze specific slices of your dataset. This is particularly useful if you want to inspect if a feature type is well-represented in your dataset. Let's walk through an example where we want to compare the statistics for male and female participants.\n",
        "\n",
        "First, you will use the get_feature_value_slicer method from the slicing_util to get the features you want to examine. You can specify that by passing a dictionary to the features argument. If you want to get the entire domain of a feature, then you can map the feature name with None as shown below. This means that you will get slices for both Male and Female entries. This returns a function that can be used to extract the said feature slice."
      ],
      "metadata": {
        "id": "G9ze6c_6oA3m"
      }
    },
    {
      "cell_type": "code",
      "source": [
        "from tensorflow_data_validation.utils import slicing_util\n",
        "slice_fn = slicing_util.get_feature_value_slicer(features={'sex': None})"
      ],
      "metadata": {
        "id": "OBS-Fi6NoGNY"
      },
      "execution_count": 44,
      "outputs": []
    },
    {
      "cell_type": "markdown",
      "source": [
        "With the slice function ready, you can now generate the statistics. You need to tell TFDV that you need statistics for the features you set and you can do that through the slice_functions argument of tfdv.StatsOptions. Let's prepare that in the cell below. Notice that you also need to pass in the schema."
      ],
      "metadata": {
        "id": "v7z_8yPjoZ2f"
      }
    },
    {
      "cell_type": "code",
      "source": [
        "from tensorflow_data_validation.statistics.stats_options import StatsOptions\n",
        "# Declear stats options\n",
        "\n",
        "slice_stats_options =StatsOptions(schema = schema, slice_functions = [slice_fn],\n",
        "                                  infer_type_from_schema = True)"
      ],
      "metadata": {
        "id": "mlV9oUy9ocIG"
      },
      "execution_count": 45,
      "outputs": []
    },
    {
      "cell_type": "code",
      "source": [
        ""
      ],
      "metadata": {
        "id": "mVBysynTpEtl"
      },
      "execution_count": null,
      "outputs": []
    },
    {
      "cell_type": "markdown",
      "source": [
        "You will then pass these options to the generate_statistics_from_csv() method. As of writing, generating sliced statistics only works for CSVs so you will need to convert the Pandas dataframe to a CSV. Passing the slice_stats_options to generate_statistics_from_dataframe() will not produce the expected results."
      ],
      "metadata": {
        "id": "Gu1haQJepIXZ"
      }
    },
    {
      "cell_type": "code",
      "source": [
        "# Convert dataframe to CSV since `slice_functions` works only with `tfdv.generate_statistics_from_csv`\n",
        "CSV_PATH = 'slice_sample.csv'\n",
        "train_df.to_csv(CSV_PATH)\n",
        "\n",
        "# Calculate statistics for the sliced dataset\n",
        "sliced_stats = tfdv.generate_statistics_from_csv(CSV_PATH, stats_options=slice_stats_options)"
      ],
      "metadata": {
        "colab": {
          "base_uri": "https://localhost:8080/",
          "height": 238
        },
        "id": "alkB8Fi2pUgQ",
        "outputId": "5c07bb06-7c14-40f9-8678-c659a2bfc602"
      },
      "execution_count": 46,
      "outputs": [
        {
          "output_type": "stream",
          "name": "stderr",
          "text": [
            "WARNING:apache_beam.runners.interactive.interactive_environment:Dependencies required for Interactive Beam PCollection visualization are not available, please use: `pip install apache-beam[interactive]` to install necessary dependencies to enable all data visualization features.\n"
          ]
        },
        {
          "output_type": "display_data",
          "data": {
            "application/javascript": [
              "\n",
              "        if (typeof window.interactive_beam_jquery == 'undefined') {\n",
              "          var jqueryScript = document.createElement('script');\n",
              "          jqueryScript.src = 'https://code.jquery.com/jquery-3.4.1.slim.min.js';\n",
              "          jqueryScript.type = 'text/javascript';\n",
              "          jqueryScript.onload = function() {\n",
              "            var datatableScript = document.createElement('script');\n",
              "            datatableScript.src = 'https://cdn.datatables.net/1.10.20/js/jquery.dataTables.min.js';\n",
              "            datatableScript.type = 'text/javascript';\n",
              "            datatableScript.onload = function() {\n",
              "              window.interactive_beam_jquery = jQuery.noConflict(true);\n",
              "              window.interactive_beam_jquery(document).ready(function($){\n",
              "                \n",
              "              });\n",
              "            }\n",
              "            document.head.appendChild(datatableScript);\n",
              "          };\n",
              "          document.head.appendChild(jqueryScript);\n",
              "        } else {\n",
              "          window.interactive_beam_jquery(document).ready(function($){\n",
              "            \n",
              "          });\n",
              "        }"
            ]
          },
          "metadata": {}
        },
        {
          "output_type": "stream",
          "name": "stderr",
          "text": [
            "WARNING:root:Make sure that locally built Python SDK docker image has Python 3.7 interpreter.\n",
            "WARNING:apache_beam.io.tfrecordio:Couldn't find python-snappy so the implementation of _TFRecordUtil._masked_crc32c is not as fast as it could be.\n"
          ]
        },
        {
          "output_type": "stream",
          "name": "stdout",
          "text": [
            "WARNING:tensorflow:From /usr/local/lib/python3.7/dist-packages/tensorflow_data_validation/utils/statistics_io_impl.py:100: tf_record_iterator (from tensorflow.python.lib.io.tf_record) is deprecated and will be removed in a future version.\n",
            "Instructions for updating:\n",
            "Use eager execution and: \n",
            "`tf.data.TFRecordDataset(path)`\n"
          ]
        },
        {
          "output_type": "stream",
          "name": "stderr",
          "text": [
            "WARNING:tensorflow:From /usr/local/lib/python3.7/dist-packages/tensorflow_data_validation/utils/statistics_io_impl.py:100: tf_record_iterator (from tensorflow.python.lib.io.tf_record) is deprecated and will be removed in a future version.\n",
            "Instructions for updating:\n",
            "Use eager execution and: \n",
            "`tf.data.TFRecordDataset(path)`\n"
          ]
        }
      ]
    },
    {
      "cell_type": "markdown",
      "source": [
        "With that, you now have the statistics for the set slice. These are packed into a DatasetFeatureStatisticsList protocol buffer. You can see the dataset names below. The first element in the list (i.e. index=0) is named All_Examples which just contains the statistics for the entire dataset. The next two elements (i.e. named sex_Male and sex_Female) are the datasets that contain the stats for the slices. It is important to note that these datasets are of the type: DatasetFeatureStatistics. You will see why this is important after the cell below."
      ],
      "metadata": {
        "id": "dmgsBw9ZpifX"
      }
    },
    {
      "cell_type": "code",
      "source": [
        "print(f'Datasets generated: {[sliced.name for sliced in sliced_stats.datasets]}')\n",
        "\n",
        "print(f'Type of sliced_stats elements: {type(sliced_stats.datasets[0])}')"
      ],
      "metadata": {
        "colab": {
          "base_uri": "https://localhost:8080/"
        },
        "id": "BEnS7of5ptvA",
        "outputId": "0b446454-9739-4a8f-eef6-275d0d622c3d"
      },
      "execution_count": 47,
      "outputs": [
        {
          "output_type": "stream",
          "name": "stdout",
          "text": [
            "Datasets generated: ['All Examples', 'sex_Male', 'sex_Female']\n",
            "Type of sliced_stats elements: <class 'tensorflow_metadata.proto.v0.statistics_pb2.DatasetFeatureStatistics'>\n"
          ]
        }
      ]
    },
    {
      "cell_type": "markdown",
      "source": [
        "You can then visualize the statistics as before to examine the slices. An important caveat is visualize_statistics() accepts a DatasetFeatureStatisticsList type instead of DatasetFeatureStatistics. Thus, at least for this version of TFDV, you will need to convert it to the correct type"
      ],
      "metadata": {
        "id": "FdUImj6wp52C"
      }
    },
    {
      "cell_type": "code",
      "source": [
        "from tensorflow_metadata.proto.v0.statistics_pb2 import DatasetFeatureStatisticsList\n",
        "\n",
        "# Convert `Male` statistics (index=1) to the correct type and get the dataset name\n",
        "male_stats_list = DatasetFeatureStatisticsList()\n",
        "male_stats_list.datasets.extend([sliced_stats.datasets[1]])\n",
        "male_stats_name = sliced_stats.datasets[1].name\n",
        "\n",
        "# Convert `Female` statistics (index=2) to the correct type and get the dataset name\n",
        "female_stats_list = DatasetFeatureStatisticsList()\n",
        "female_stats_list.datasets.extend([sliced_stats.datasets[2]])\n",
        "female_stats_name = sliced_stats.datasets[2].name\n",
        "\n",
        "# Visualize the two slices side by side\n",
        "tfdv.visualize_statistics(\n",
        "    lhs_statistics=male_stats_list,\n",
        "    rhs_statistics=female_stats_list,\n",
        "    lhs_name=male_stats_name,\n",
        "    rhs_name=female_stats_name\n",
        ")"
      ],
      "metadata": {
        "colab": {
          "base_uri": "https://localhost:8080/",
          "height": 1000
        },
        "id": "Tk1Cl4sQqIXS",
        "outputId": "39488608-77f8-4fed-c1b5-156b3130b06a"
      },
      "execution_count": 48,
      "outputs": [
        {
          "output_type": "display_data",
          "data": {
            "text/plain": [
              "<IPython.core.display.HTML object>"
            ],
            "text/html": [
              "<iframe id='facets-iframe' width=\"100%\" height=\"500px\"></iframe>\n",
              "        <script>\n",
              "        facets_iframe = document.getElementById('facets-iframe');\n",
              "        facets_html = '<script src=\"https://cdnjs.cloudflare.com/ajax/libs/webcomponentsjs/1.3.3/webcomponents-lite.js\"><\\/script><link rel=\"import\" href=\"https://raw.githubusercontent.com/PAIR-code/facets/master/facets-dist/facets-jupyter.html\"><facets-overview proto-input=\"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\"></facets-overview>';\n",
              "        facets_iframe.srcdoc = facets_html;\n",
              "         facets_iframe.id = \"\";\n",
              "         setTimeout(() => {\n",
              "           facets_iframe.setAttribute('height', facets_iframe.contentWindow.document.body.offsetHeight + 'px')\n",
              "         }, 1500)\n",
              "         </script>"
            ]
          },
          "metadata": {}
        }
      ]
    },
    {
      "cell_type": "markdown",
      "source": [
        "ou should now see the visualization of the two slices and you can compare how they are represented in the dataset.\n",
        "\n",
        "We encourage you to go back to the beginning of this section and try different slices. Here are other ways you can explore:\n",
        "\n",
        "If you want to be more specific, then you can map the specific value to the feature name. For example, if you want just Male, then you can declare it as features={'sex': [b'Male']}. Notice that the string literal needs to be passed in as bytes with the b' prefix.\n",
        "\n",
        "You can also pass in several features if you want. For example, if you want to slice through both the sex and race features, then you can do features={'sex': None, 'race': None}.\n",
        "\n",
        "You might find it cumbersome or inefficient to redo the whole process for a particular slice. For that, you can make helper functions to streamline the type conversions and you will see one implementation in this week's assignment.\n",
        "\n",
        "## **Wrap up**\n",
        "This exercise demonstrated how you would use Tensorflow Data Validation in a machine learning project.\n",
        "\n",
        "- It allows you to scale the computation of statistics over datasets.\n",
        "- You can infer the schema of a given dataset and revise it based on your domain knowledge.\n",
        "- You can inspect discrepancies between the training and evaluation datasets by visualizing the statistics and detecting anomalies.\n",
        "- You can analyze specific slices of your dataset.\n",
        "\n",
        "You can consult this notebook in this week's programming assignment as well as these additional resources:\n",
        "\n",
        "- TFDV Guide\n",
        "- TFDV blog post\n",
        "- Tensorflow Official Tutorial\n",
        "- API Docs"
      ],
      "metadata": {
        "id": "KFVk84WbqpBa"
      }
    }
  ]
}